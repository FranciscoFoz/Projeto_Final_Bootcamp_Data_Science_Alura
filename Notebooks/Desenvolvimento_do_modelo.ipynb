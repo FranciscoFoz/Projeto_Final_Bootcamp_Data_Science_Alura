{
  "cells": [
    {
      "cell_type": "markdown",
      "metadata": {
        "id": "view-in-github",
        "colab_type": "text"
      },
      "source": [
        "<a href=\"https://colab.research.google.com/github/FranciscoFoz/Projeto_Final_Bootcamp_Data_Science_Alura/blob/main/Notebooks/Desenvolvimento_do_modelo.ipynb\" target=\"_parent\"><img src=\"https://colab.research.google.com/assets/colab-badge.svg\" alt=\"Open In Colab\"/></a>"
      ]
    },
    {
      "cell_type": "markdown",
      "metadata": {
        "id": "FaBO3v0wq_TP"
      },
      "source": [
        "# <font color= MediumSpringGreen\t\tsize = 6> Bootcamp Data Science Alura - Projeto Final </font>\n",
        "\n",
        "# <font color= MediumSpringGreen\t\tsize = 6>\n",
        "Previsão da admissão na UTI:\n",
        "Um modelo de Machine Learning a partir de dados dos pacientes do Hospital Sírio Libanês </font>\n",
        "\n",
        "2º Notebook"
      ]
    },
    {
      "cell_type": "markdown",
      "metadata": {
        "id": "Yp8IFAz4q_QJ"
      },
      "source": [
        "Elaborado por [Francisco Foz](https://www.linkedin.com/in/francisco-tadeu-foz/)\n",
        "\n",
        "Data: 18/02/2022"
      ]
    },
    {
      "cell_type": "markdown",
      "metadata": {
        "id": "gj6idIwGrvmN"
      },
      "source": [
        "### <font color= MediumSpringGreen> Importando bibliotecas\n",
        "\n",
        "Importarei as bibliotecas necessárias, configuradas no \"requirements.txt\" do projeto.\n",
        "\n",
        "Devido outra versão do matplotlib, será necessário restartar o ambiente após a desisntalação da versão pré instalada no colab.\n"
      ]
    },
    {
      "cell_type": "code",
      "execution_count": 1,
      "metadata": {
        "id": "ZhHpy8wz9ueN",
        "colab": {
          "base_uri": "https://localhost:8080/",
          "height": 52
        },
        "outputId": "61ec67dd-395d-4296-a0b8-d82da795f419"
      },
      "outputs": [
        {
          "output_type": "stream",
          "name": "stdout",
          "text": [
            "Requirement already satisfied: wget in /usr/local/lib/python3.7/dist-packages (3.2)\n"
          ]
        },
        {
          "output_type": "execute_result",
          "data": {
            "application/vnd.google.colaboratory.intrinsic+json": {
              "type": "string"
            },
            "text/plain": [
              "'requirements (1).txt'"
            ]
          },
          "metadata": {},
          "execution_count": 1
        }
      ],
      "source": [
        "!pip install wget\n",
        "import wget\n",
        "\n",
        "wget.download('https://raw.githubusercontent.com/FranciscoFoz/Projeto_Final_Bootcamp_Data_Science_Alura/main/requirements.txt', 'requirements.txt')"
      ]
    },
    {
      "cell_type": "code",
      "source": [
        "!pip install -r requirements.txt"
      ],
      "metadata": {
        "id": "no3lDOCOS259",
        "colab": {
          "base_uri": "https://localhost:8080/"
        },
        "outputId": "c2eb2695-3b56-4aaa-ccaf-1d6c9fe9a5ea"
      },
      "execution_count": 2,
      "outputs": [
        {
          "output_type": "stream",
          "name": "stdout",
          "text": [
            "Requirement already satisfied: pandas==1.3.5 in /usr/local/lib/python3.7/dist-packages (from -r requirements.txt (line 1)) (1.3.5)\n",
            "Requirement already satisfied: openpyxl==3.0.9 in /usr/local/lib/python3.7/dist-packages (from -r requirements.txt (line 2)) (3.0.9)\n",
            "Requirement already satisfied: numpy==1.21.0 in /usr/local/lib/python3.7/dist-packages (from -r requirements.txt (line 3)) (1.21.0)\n",
            "Requirement already satisfied: matplotlib==3.4.2 in /usr/local/lib/python3.7/dist-packages (from -r requirements.txt (line 4)) (3.4.2)\n",
            "Requirement already satisfied: imgaug==0.2.9 in /usr/local/lib/python3.7/dist-packages (from -r requirements.txt (line 5)) (0.2.9)\n",
            "Requirement already satisfied: scikit-learn==1.0.2 in /usr/local/lib/python3.7/dist-packages (from -r requirements.txt (line 6)) (1.0.2)\n",
            "Requirement already satisfied: scikit-optimize==0.9 in /usr/local/lib/python3.7/dist-packages (from -r requirements.txt (line 7)) (0.9.0)\n",
            "Requirement already satisfied: python-dateutil>=2.7.3 in /usr/local/lib/python3.7/dist-packages (from pandas==1.3.5->-r requirements.txt (line 1)) (2.8.2)\n",
            "Requirement already satisfied: pytz>=2017.3 in /usr/local/lib/python3.7/dist-packages (from pandas==1.3.5->-r requirements.txt (line 1)) (2018.9)\n",
            "Requirement already satisfied: et-xmlfile in /usr/local/lib/python3.7/dist-packages (from openpyxl==3.0.9->-r requirements.txt (line 2)) (1.1.0)\n",
            "Requirement already satisfied: pyparsing>=2.2.1 in /usr/local/lib/python3.7/dist-packages (from matplotlib==3.4.2->-r requirements.txt (line 4)) (3.0.7)\n",
            "Requirement already satisfied: pillow>=6.2.0 in /usr/local/lib/python3.7/dist-packages (from matplotlib==3.4.2->-r requirements.txt (line 4)) (7.1.2)\n",
            "Requirement already satisfied: kiwisolver>=1.0.1 in /usr/local/lib/python3.7/dist-packages (from matplotlib==3.4.2->-r requirements.txt (line 4)) (1.3.2)\n",
            "Requirement already satisfied: cycler>=0.10 in /usr/local/lib/python3.7/dist-packages (from matplotlib==3.4.2->-r requirements.txt (line 4)) (0.11.0)\n",
            "Requirement already satisfied: scipy in /usr/local/lib/python3.7/dist-packages (from imgaug==0.2.9->-r requirements.txt (line 5)) (1.4.1)\n",
            "Requirement already satisfied: imageio in /usr/local/lib/python3.7/dist-packages (from imgaug==0.2.9->-r requirements.txt (line 5)) (2.4.1)\n",
            "Requirement already satisfied: opencv-python in /usr/local/lib/python3.7/dist-packages (from imgaug==0.2.9->-r requirements.txt (line 5)) (4.1.2.30)\n",
            "Requirement already satisfied: scikit-image>=0.11.0 in /usr/local/lib/python3.7/dist-packages (from imgaug==0.2.9->-r requirements.txt (line 5)) (0.18.3)\n",
            "Requirement already satisfied: six in /usr/local/lib/python3.7/dist-packages (from imgaug==0.2.9->-r requirements.txt (line 5)) (1.15.0)\n",
            "Requirement already satisfied: Shapely in /usr/local/lib/python3.7/dist-packages (from imgaug==0.2.9->-r requirements.txt (line 5)) (1.8.0)\n",
            "Requirement already satisfied: joblib>=0.11 in /usr/local/lib/python3.7/dist-packages (from scikit-learn==1.0.2->-r requirements.txt (line 6)) (1.1.0)\n",
            "Requirement already satisfied: threadpoolctl>=2.0.0 in /usr/local/lib/python3.7/dist-packages (from scikit-learn==1.0.2->-r requirements.txt (line 6)) (3.1.0)\n",
            "Requirement already satisfied: pyaml>=16.9 in /usr/local/lib/python3.7/dist-packages (from scikit-optimize==0.9->-r requirements.txt (line 7)) (21.10.1)\n",
            "Requirement already satisfied: PyYAML in /usr/local/lib/python3.7/dist-packages (from pyaml>=16.9->scikit-optimize==0.9->-r requirements.txt (line 7)) (3.13)\n",
            "Requirement already satisfied: networkx>=2.0 in /usr/local/lib/python3.7/dist-packages (from scikit-image>=0.11.0->imgaug==0.2.9->-r requirements.txt (line 5)) (2.6.3)\n",
            "Requirement already satisfied: tifffile>=2019.7.26 in /usr/local/lib/python3.7/dist-packages (from scikit-image>=0.11.0->imgaug==0.2.9->-r requirements.txt (line 5)) (2021.11.2)\n",
            "Requirement already satisfied: PyWavelets>=1.1.1 in /usr/local/lib/python3.7/dist-packages (from scikit-image>=0.11.0->imgaug==0.2.9->-r requirements.txt (line 5)) (1.2.0)\n"
          ]
        }
      ]
    },
    {
      "cell_type": "code",
      "execution_count": 3,
      "metadata": {
        "id": "BNUw4wQ0qwOW"
      },
      "outputs": [],
      "source": [
        "import pandas as pd\n",
        "import numpy as np\n",
        "import matplotlib.pyplot as plt\n",
        "\n",
        "from sklearn.model_selection import train_test_split\n",
        "\n",
        "from sklearn.ensemble import BaggingClassifier, GradientBoostingClassifier,RandomForestClassifier\n",
        "\n",
        "from sklearn.metrics import accuracy_score,classification_report, roc_auc_score, ConfusionMatrixDisplay, RocCurveDisplay\n",
        "\n",
        "from sklearn.datasets import load_digits\n",
        "\n",
        "from numpy.ma import MaskedArray\n",
        "import sklearn.utils.fixes\n",
        "\n",
        "sklearn.utils.fixes.MaskedArray = MaskedArray\n",
        "\n",
        "from skopt import BayesSearchCV\n",
        "\n",
        "from joblib import dump, load\n"
      ]
    },
    {
      "cell_type": "markdown",
      "metadata": {
        "id": "VqIixNQfr2om"
      },
      "source": [
        "### <font color= MediumSpringGreen> Funções\n",
        "\n",
        "Importarei o notebook com todas as funções necessárias para o projeto, criadas neste [notebook](https://github.com/FranciscoFoz/Projeto_Final_Bootcamp_Data_Science_Alura/blob/main/Notebooks/Notebook_de_Funcoes.ipynb)"
      ]
    },
    {
      "cell_type": "code",
      "source": [
        "wget.download('https://raw.githubusercontent.com/FranciscoFoz/Projeto_Final_Bootcamp_Data_Science_Alura/main/Notebooks/notebook_de_funcoes.py', 'funcoes.py')"
      ],
      "metadata": {
        "colab": {
          "base_uri": "https://localhost:8080/",
          "height": 34
        },
        "id": "Km10ON-2VZ86",
        "outputId": "851db417-5f56-4b0c-f839-3d1974a014e9"
      },
      "execution_count": 4,
      "outputs": [
        {
          "output_type": "execute_result",
          "data": {
            "application/vnd.google.colaboratory.intrinsic+json": {
              "type": "string"
            },
            "text/plain": [
              "'funcoes.py'"
            ]
          },
          "metadata": {},
          "execution_count": 4
        }
      ]
    },
    {
      "cell_type": "code",
      "source": [
        "import funcoes as f"
      ],
      "metadata": {
        "id": "Zw7064u7Hsul"
      },
      "execution_count": 5,
      "outputs": []
    },
    {
      "cell_type": "markdown",
      "metadata": {
        "id": "X_22pcEN5N7E"
      },
      "source": [
        "## <font color= MediumSpringGreen> Importação dos dados"
      ]
    },
    {
      "cell_type": "code",
      "execution_count": 6,
      "metadata": {
        "id": "n2PHsd4z5RjO"
      },
      "outputs": [],
      "source": [
        "dados = pd.read_csv('https://raw.githubusercontent.com/FranciscoFoz/Projeto_Final_Bootcamp_Data_Science_Alura/main/Dados/dados_sem_valores_unicos.csv')"
      ]
    },
    {
      "cell_type": "markdown",
      "metadata": {
        "id": "GuNiRXVfr3SN"
      },
      "source": [
        "## <font color= MediumSpringGreen> 1. Treinamento e desenvolvimento do modelo\n"
      ]
    },
    {
      "cell_type": "markdown",
      "metadata": {
        "id": "0feOu29R6rCS"
      },
      "source": [
        "Escolhi 3 algoritmos para realizar o treinamento e desenvolvimento do modelo:\n",
        "\n",
        "*   [Bagging Classifier](https://scikit-learn.org/stable/modules/generated/sklearn.ensemble.BaggingClassifier.html)\n",
        "\n",
        "*   [Gradient Boosting Classifier](https://scikit-learn.org/stable/modules/generated/sklearn.ensemble.GradientBoostingClassifier.html)\n",
        "\n",
        "*   [Ramdom Florest](https://scikit-learn.org/stable/modules/generated/sklearn.ensemble.RandomForestClassifier.html#sklearn.ensemble.RandomForestClassifier)\n",
        "\n",
        "\n",
        "Baseado no artigo de [Subudhi et al (2021)](https://doi.org/10.1038/s41746-021-00456-x)\n",
        "\n",
        "No qual tiveram as melhores métricas de F1 score.\n",
        "\n",
        "A partir deles, realizarei os treinos e melhorarei os parâmetros."
      ]
    },
    {
      "cell_type": "markdown",
      "metadata": {
        "id": "hkiwNqjOHgbI"
      },
      "source": [
        "Para cada algoritmo, criarei rodarei ele e verificarei o AUC com a tabela de classificação de \"precision\", \"recall\" e \"f1-score\". \n",
        "Para cada um também rodarei o modelo 50 vezes e mostrarei  valor do AUC médio e seu intervalo de mínimo e máximo.\n",
        "\n",
        "O algoritmo que tive o mairo AUC médio será o escolhido para promover os hiperparâmetros."
      ]
    },
    {
      "cell_type": "markdown",
      "metadata": {
        "id": "IE2pgLfesbT3"
      },
      "source": [
        "### <font color= MediumSpringGreen> 1.1 Treinamento e testes iniciais\n",
        "\n",
        "Verificarei os índices de AUC para cada modelo e entenderei qual será o melhor para otimizar os hiperparâmetros e desenvolver o modelo.\n"
      ]
    },
    {
      "cell_type": "markdown",
      "metadata": {
        "id": "8bWIlUxjBdjF"
      },
      "source": [
        "#### <font color= MediumSpringGreen> 1.1.1  BaggingClassifier\n"
      ]
    },
    {
      "cell_type": "code",
      "execution_count": 7,
      "metadata": {
        "id": "xJbEIhI24OHl"
      },
      "outputs": [],
      "source": [
        "modelo_bagging = BaggingClassifier()"
      ]
    },
    {
      "cell_type": "markdown",
      "source": [
        "Rodarei o modelo nos dados e printarei os resultados."
      ],
      "metadata": {
        "id": "VvzNy9wuWJSZ"
      }
    },
    {
      "cell_type": "code",
      "source": [
        "f.roda_modelo(modelo_bagging,dados)"
      ],
      "metadata": {
        "colab": {
          "base_uri": "https://localhost:8080/"
        },
        "id": "QMaYxOXCXbA7",
        "outputId": "f62b74f2-1b6e-469e-d4f1-5bc16f857f93"
      },
      "execution_count": 8,
      "outputs": [
        {
          "output_type": "stream",
          "name": "stdout",
          "text": [
            "AUC 0.8642241379310346\n",
            "\n",
            "Classification Report\n",
            "              precision    recall  f1-score   support\n",
            "\n",
            "           0       0.76      0.90      0.83        29\n",
            "           1       0.84      0.67      0.74        24\n",
            "\n",
            "    accuracy                           0.79        53\n",
            "   macro avg       0.80      0.78      0.78        53\n",
            "weighted avg       0.80      0.79      0.79        53\n",
            "\n"
          ]
        }
      ]
    },
    {
      "cell_type": "markdown",
      "source": [
        "Plotarei uma matriz de confusão dos resultados do Bagging Classifier."
      ],
      "metadata": {
        "id": "sz4pm-CfWPQp"
      }
    },
    {
      "cell_type": "code",
      "execution_count": 9,
      "metadata": {
        "colab": {
          "base_uri": "https://localhost:8080/",
          "height": 520
        },
        "id": "1uqbedFssnaV",
        "outputId": "dad48e70-354d-4ce2-d283-4c44127021e3"
      },
      "outputs": [
        {
          "output_type": "display_data",
          "data": {
            "image/png": "[encoded data removed]",
            "text/plain": [
              "<Figure size 648x648 with 2 Axes>"
            ]
          },
          "metadata": {
            "needs_background": "light"
          }
        }
      ],
      "source": [
        "f.grafico_matriz_confusao(modelo_bagging,'Matriz de confusão - Bagging Classifier',dados)"
      ]
    },
    {
      "cell_type": "markdown",
      "source": [
        "Rodarei o modelo 50 vezes e verificarei qual é o seu AUC médio e em qual intervalo se encontra."
      ],
      "metadata": {
        "id": "8nuThJEOXNY_"
      }
    },
    {
      "cell_type": "code",
      "execution_count": 10,
      "metadata": {
        "colab": {
          "base_uri": "https://localhost:8080/"
        },
        "id": "lsG3No33vxzZ",
        "outputId": "c81fb0ee-6ff4-4f96-db33-567dc3ef2da5"
      },
      "outputs": [
        {
          "output_type": "stream",
          "name": "stdout",
          "text": [
            "AUC médio 0.7514798850574713\n",
            "Intervalo 0.6289125908452037 - 0.874047179269739\n"
          ]
        }
      ],
      "source": [
        "f.roda_n_modelos(modelo_bagging,dados,50)"
      ]
    },
    {
      "cell_type": "markdown",
      "source": [
        "Este modelo não apresentou um resultado interessante, principalmente em relação ao menor índice de recall. \n",
        "\n",
        "O que demonstra que ele não está prevendo corretamente a entrada na UTI dos pacientes. "
      ],
      "metadata": {
        "id": "ejanuoJ9Qn6k"
      }
    },
    {
      "cell_type": "markdown",
      "metadata": {
        "id": "bId0eqZ8Blj0"
      },
      "source": [
        "#### <font color= MediumSpringGreen> 1.1.2  GradientBoostingClassifier\n",
        "\n",
        "\n",
        "Farei as mesmas etapas para os os próximos dois algoritmos.\n"
      ]
    },
    {
      "cell_type": "code",
      "execution_count": 11,
      "metadata": {
        "id": "6wwROjoR3sGf"
      },
      "outputs": [],
      "source": [
        "modelo_gradient_boosting = GradientBoostingClassifier()"
      ]
    },
    {
      "cell_type": "code",
      "execution_count": 12,
      "metadata": {
        "colab": {
          "base_uri": "https://localhost:8080/"
        },
        "id": "WomAox3o5jkD",
        "outputId": "4dad2e3b-b5cc-41de-83a1-49b689165542"
      },
      "outputs": [
        {
          "output_type": "stream",
          "name": "stdout",
          "text": [
            "AUC 0.8678160919540231\n",
            "\n",
            "Classification Report\n",
            "              precision    recall  f1-score   support\n",
            "\n",
            "           0       0.83      0.86      0.85        29\n",
            "           1       0.83      0.79      0.81        24\n",
            "\n",
            "    accuracy                           0.83        53\n",
            "   macro avg       0.83      0.83      0.83        53\n",
            "weighted avg       0.83      0.83      0.83        53\n",
            "\n"
          ]
        }
      ],
      "source": [
        "f.roda_modelo(modelo_gradient_boosting,dados)"
      ]
    },
    {
      "cell_type": "code",
      "execution_count": 13,
      "metadata": {
        "colab": {
          "base_uri": "https://localhost:8080/",
          "height": 526
        },
        "id": "G-4dNB78s-_D",
        "outputId": "cf83c89c-8668-4fdb-8927-2ddac46fb008"
      },
      "outputs": [
        {
          "output_type": "display_data",
          "data": {
            "image/png": "[encoded data removed]",
            "text/plain": [
              "<Figure size 648x648 with 2 Axes>"
            ]
          },
          "metadata": {
            "needs_background": "light"
          }
        }
      ],
      "source": [
        "f.grafico_matriz_confusao(modelo_gradient_boosting,'Matriz de confusão - Gradient Boosting',dados)"
      ]
    },
    {
      "cell_type": "code",
      "execution_count": 14,
      "metadata": {
        "colab": {
          "base_uri": "https://localhost:8080/"
        },
        "id": "sx0fXUFC6FfS",
        "outputId": "72305ba7-5957-4aac-db45-e5d520d4e4ff"
      },
      "outputs": [
        {
          "output_type": "stream",
          "name": "stdout",
          "text": [
            "AUC médio 0.7935344827586208\n",
            "Intervalo 0.6784164414715169 - 0.9086525240457247\n"
          ]
        }
      ],
      "source": [
        "f.roda_n_modelos(modelo_gradient_boosting,dados,50)"
      ]
    },
    {
      "cell_type": "markdown",
      "source": [
        "No geral este modelo já apresentou resultados melhores do que o anterior. "
      ],
      "metadata": {
        "id": "QGBl4gjMS3jw"
      }
    },
    {
      "cell_type": "markdown",
      "metadata": {
        "id": "Y78ebLq1BqH1"
      },
      "source": [
        "#### <font color= MediumSpringGreen> 1.1.3  RandomForestClassifier\n"
      ]
    },
    {
      "cell_type": "markdown",
      "source": [
        "Seguirei com as etapas já aplicadas nos modelos anteriores."
      ],
      "metadata": {
        "id": "qwU94BwsXixu"
      }
    },
    {
      "cell_type": "code",
      "execution_count": 15,
      "metadata": {
        "id": "FmOLI_yf3r_P"
      },
      "outputs": [],
      "source": [
        "modelo_random_forest = RandomForestClassifier()"
      ]
    },
    {
      "cell_type": "code",
      "execution_count": 16,
      "metadata": {
        "id": "APNp48-x5jbD",
        "colab": {
          "base_uri": "https://localhost:8080/"
        },
        "outputId": "6411de85-28f7-4907-96a6-a88a5751e033"
      },
      "outputs": [
        {
          "output_type": "stream",
          "name": "stdout",
          "text": [
            "AUC 0.889367816091954\n",
            "\n",
            "Classification Report\n",
            "              precision    recall  f1-score   support\n",
            "\n",
            "           0       0.81      0.90      0.85        29\n",
            "           1       0.86      0.75      0.80        24\n",
            "\n",
            "    accuracy                           0.83        53\n",
            "   macro avg       0.83      0.82      0.83        53\n",
            "weighted avg       0.83      0.83      0.83        53\n",
            "\n"
          ]
        }
      ],
      "source": [
        "f.roda_modelo(modelo_random_forest,dados)"
      ]
    },
    {
      "cell_type": "code",
      "execution_count": 17,
      "metadata": {
        "colab": {
          "base_uri": "https://localhost:8080/",
          "height": 520
        },
        "id": "3G9KnBA3qeGi",
        "outputId": "74ba0d09-a41e-4a0a-edb5-98d3a74f3ef4"
      },
      "outputs": [
        {
          "output_type": "display_data",
          "data": {
            "image/png": "[encoded data removed]",
            "text/plain": [
              "<Figure size 648x648 with 2 Axes>"
            ]
          },
          "metadata": {
            "needs_background": "light"
          }
        }
      ],
      "source": [
        "f.grafico_matriz_confusao(modelo_random_forest,'Matriz de confusão - Random Forest',dados)"
      ]
    },
    {
      "cell_type": "code",
      "execution_count": 18,
      "metadata": {
        "colab": {
          "base_uri": "https://localhost:8080/"
        },
        "id": "lshTWeaW6Fmq",
        "outputId": "17ae438f-f7ae-46d3-c4e7-02d74f002577"
      },
      "outputs": [
        {
          "output_type": "stream",
          "name": "stdout",
          "text": [
            "AUC médio 0.799353448275862\n",
            "Intervalo 0.679210924769189 - 0.919495971782535\n"
          ]
        }
      ],
      "source": [
        "f.roda_n_modelos(modelo_random_forest,dados,50)"
      ]
    },
    {
      "cell_type": "markdown",
      "source": [
        "O Random Forest também teve resultados bons. \n",
        "\n",
        "Para a segunda parte, irei otimizar os parâmetros para que tenham resultados melhores.\n",
        "Tanto para o Random forest, quanto para o Gradient Boosting eu irei otimizar com os melhores parâmetros."
      ],
      "metadata": {
        "id": "ADYT5gCYVIQK"
      }
    },
    {
      "cell_type": "markdown",
      "metadata": {
        "id": "bRwwtZ3sskNX"
      },
      "source": [
        "### <font color= MediumSpringGreen> 1.2 Otimização de hiperparâmetros\n",
        "\n",
        "Irei realizar a otimização dos hiperparametros dos dois modelos que tiveram maior AUC médio, para verficar qual teve o melhor AUC e recall de acordo com a previsão de entrada na UTI.\n",
        "\n",
        "\n",
        "\n",
        "Utilizarei a otimização Bayesiana para encontrar os melhores hiperparâmetros."
      ]
    },
    {
      "cell_type": "markdown",
      "metadata": {
        "id": "rN3MzltIt8N7"
      },
      "source": [
        "#### <font color= MediumSpringGreen> 1.2.1 Gradient Boosting Classifier\n"
      ]
    },
    {
      "cell_type": "markdown",
      "metadata": {
        "id": "MO7_UcGavVVL"
      },
      "source": [
        "Listarei a faixa de cada hiperparâmetro a ser verificado pelo algoritmo."
      ]
    },
    {
      "cell_type": "code",
      "execution_count": 19,
      "metadata": {
        "id": "Fo4-ZzkUuEl5"
      },
      "outputs": [],
      "source": [
        "params_gradient_boosting_classifier = {\n",
        "    'n_estimators': (10,1000),\n",
        "    'learning_rate': (0.0001,1.0),\n",
        "    'max_depth': (2,10),\n",
        "    'subsample': (0.1, 1.0)\n",
        "    }"
      ]
    },
    {
      "cell_type": "markdown",
      "metadata": {
        "id": "XJwYvqo7vX_i"
      },
      "source": [
        "Passarei essa função que irá me devolver quais são os melhores hiperparâmetros."
      ]
    },
    {
      "cell_type": "code",
      "source": [
        "f.otimizar_param_bayesiano(modelo_gradient_boosting,params_gradient_boosting_classifier,dados)"
      ],
      "metadata": {
        "colab": {
          "base_uri": "https://localhost:8080/"
        },
        "id": "QPOLL9bDVgQh",
        "outputId": "616e3a90-955f-41f3-eee5-ceb12181b034"
      },
      "execution_count": 20,
      "outputs": [
        {
          "output_type": "execute_result",
          "data": {
            "text/plain": [
              "OrderedDict([('learning_rate', 0.18897551641625762),\n",
              "             ('max_depth', 5),\n",
              "             ('n_estimators', 854),\n",
              "             ('subsample', 0.5407582324959316)])"
            ]
          },
          "metadata": {},
          "execution_count": 20
        }
      ]
    },
    {
      "cell_type": "markdown",
      "metadata": {
        "id": "V8hoUhh6vjAb"
      },
      "source": [
        "Treinarei o modelo com os melhores hiperparâmetros."
      ]
    },
    {
      "cell_type": "code",
      "execution_count": 21,
      "metadata": {
        "id": "Vua5UaJLvTPp"
      },
      "outputs": [],
      "source": [
        "modelo_gbc_otimizado = GradientBoostingClassifier(n_estimators=854,learning_rate=0.18897551641625762,max_depth=5,subsample=0.5407582324959316)"
      ]
    },
    {
      "cell_type": "markdown",
      "metadata": {
        "id": "7w2ju4JFvmO5"
      },
      "source": [
        "Farei os testes novamente.\n"
      ]
    },
    {
      "cell_type": "code",
      "execution_count": 22,
      "metadata": {
        "id": "stRjN8Rbvm9R",
        "colab": {
          "base_uri": "https://localhost:8080/"
        },
        "outputId": "e6280128-5659-4561-cad3-a773ac7b003f"
      },
      "outputs": [
        {
          "output_type": "stream",
          "name": "stdout",
          "text": [
            "AUC 0.8419540229885056\n",
            "\n",
            "Classification Report\n",
            "              precision    recall  f1-score   support\n",
            "\n",
            "           0       0.83      0.86      0.85        29\n",
            "           1       0.83      0.79      0.81        24\n",
            "\n",
            "    accuracy                           0.83        53\n",
            "   macro avg       0.83      0.83      0.83        53\n",
            "weighted avg       0.83      0.83      0.83        53\n",
            "\n"
          ]
        }
      ],
      "source": [
        "f.roda_modelo(modelo_gbc_otimizado,dados)"
      ]
    },
    {
      "cell_type": "code",
      "execution_count": 23,
      "metadata": {
        "id": "CpApqWZc0UCp",
        "colab": {
          "base_uri": "https://localhost:8080/",
          "height": 541
        },
        "outputId": "737afbef-2cf6-4011-e2d2-be95dce41b9c"
      },
      "outputs": [
        {
          "output_type": "display_data",
          "data": {
            "image/png": "[encoded data removed]",
            "text/plain": [
              "<Figure size 648x648 with 2 Axes>"
            ]
          },
          "metadata": {
            "needs_background": "light"
          }
        }
      ],
      "source": [
        "f.grafico_matriz_confusao(modelo_gbc_otimizado,'Matriz de confusão'+'\\n'+'Gradient Boosting otimizado',dados)"
      ]
    },
    {
      "cell_type": "code",
      "execution_count": 24,
      "metadata": {
        "colab": {
          "base_uri": "https://localhost:8080/"
        },
        "id": "o6p9bLpn0UMg",
        "outputId": "e14c0447-744f-4197-a7c6-b24c9b476eec"
      },
      "outputs": [
        {
          "output_type": "stream",
          "name": "stdout",
          "text": [
            "AUC médio 0.7941666666666666\n",
            "Intervalo 0.6873693298146948 - 0.9009640035186384\n"
          ]
        }
      ],
      "source": [
        "f.roda_n_modelos(modelo_gbc_otimizado,dados,50)"
      ]
    },
    {
      "cell_type": "markdown",
      "metadata": {
        "id": "8iojXfjNt1Zz"
      },
      "source": [
        "#### <font color= MediumSpringGreen> 1.2.2 Ramdom Forest\n"
      ]
    },
    {
      "cell_type": "markdown",
      "metadata": {
        "id": "R4OjWozouXxL"
      },
      "source": [
        "Listarei a faixa de cada hiperparâmetro a ser verificado pelo algoritmo."
      ]
    },
    {
      "cell_type": "code",
      "execution_count": 25,
      "metadata": {
        "id": "6QN37ocS6M-W"
      },
      "outputs": [],
      "source": [
        "params_random_forest = {\n",
        "    'n_estimators': (10,1000),\n",
        "    'min_samples_split': (2,10),\n",
        "    'max_depth': (2,10)\n",
        "    }"
      ]
    },
    {
      "cell_type": "markdown",
      "metadata": {
        "id": "QZQT8s6OukVW"
      },
      "source": [
        "Passarei essa função que irá me devolver quais são os melhores hiperparâmetros."
      ]
    },
    {
      "cell_type": "code",
      "execution_count": 26,
      "metadata": {
        "colab": {
          "base_uri": "https://localhost:8080/"
        },
        "id": "cIamnHov6MlY",
        "outputId": "5aaa8d33-0ea4-4508-d0d0-5c709d115e95"
      },
      "outputs": [
        {
          "output_type": "execute_result",
          "data": {
            "text/plain": [
              "OrderedDict([('max_depth', 10),\n",
              "             ('min_samples_split', 10),\n",
              "             ('n_estimators', 156)])"
            ]
          },
          "metadata": {},
          "execution_count": 26
        }
      ],
      "source": [
        "f.otimizar_param_bayesiano(modelo_random_forest,params_random_forest,dados)"
      ]
    },
    {
      "cell_type": "markdown",
      "metadata": {
        "id": "P9hbbNE9u4TJ"
      },
      "source": [
        "Treinarei o modelo com os melhores hiperparâmetros."
      ]
    },
    {
      "cell_type": "code",
      "source": [
        "modelo_rf_otimizado = RandomForestClassifier(n_estimators=156,\n",
        "                                             min_samples_split=10,\n",
        "                                             max_depth=10)"
      ],
      "metadata": {
        "id": "tyMpVpDszluk"
      },
      "execution_count": 27,
      "outputs": []
    },
    {
      "cell_type": "markdown",
      "metadata": {
        "id": "PJL6bjXFvB15"
      },
      "source": [
        "Farei os testes novamente.\n",
        "\n",
        "\n"
      ]
    },
    {
      "cell_type": "code",
      "execution_count": 28,
      "metadata": {
        "colab": {
          "base_uri": "https://localhost:8080/"
        },
        "id": "7-7cJR1aAR8C",
        "outputId": "11e6de8c-fd40-4446-cfd7-e4c260ee0d6a"
      },
      "outputs": [
        {
          "output_type": "stream",
          "name": "stdout",
          "text": [
            "AUC 0.9094827586206896\n",
            "\n",
            "Classification Report\n",
            "              precision    recall  f1-score   support\n",
            "\n",
            "           0       0.83      0.86      0.85        29\n",
            "           1       0.83      0.79      0.81        24\n",
            "\n",
            "    accuracy                           0.83        53\n",
            "   macro avg       0.83      0.83      0.83        53\n",
            "weighted avg       0.83      0.83      0.83        53\n",
            "\n"
          ]
        }
      ],
      "source": [
        "f.roda_modelo(modelo_rf_otimizado,dados)"
      ]
    },
    {
      "cell_type": "code",
      "execution_count": 29,
      "metadata": {
        "colab": {
          "base_uri": "https://localhost:8080/",
          "height": 541
        },
        "id": "Rg3ga01JAWHR",
        "outputId": "13a41bb8-77ce-43a1-c62f-5a4f2e2b3c29"
      },
      "outputs": [
        {
          "output_type": "display_data",
          "data": {
            "image/png": "[encoded data removed]",
            "text/plain": [
              "<Figure size 648x648 with 2 Axes>"
            ]
          },
          "metadata": {
            "needs_background": "light"
          }
        }
      ],
      "source": [
        "f.grafico_matriz_confusao(modelo_rf_otimizado,'Matriz de confusão'+'\\n'+'Random Forest otimizado',dados)"
      ]
    },
    {
      "cell_type": "code",
      "execution_count": 30,
      "metadata": {
        "id": "V8dr4bieAUha",
        "colab": {
          "base_uri": "https://localhost:8080/"
        },
        "outputId": "6073a0a1-76b1-477d-e46a-2b593d2d6aca"
      },
      "outputs": [
        {
          "output_type": "stream",
          "name": "stdout",
          "text": [
            "AUC médio 0.7902586206896552\n",
            "Intervalo 0.6692703611857989 - 0.9112468801935116\n"
          ]
        }
      ],
      "source": [
        "f.roda_n_modelos(modelo_rf_otimizado,dados,50)"
      ]
    },
    {
      "cell_type": "markdown",
      "source": [
        "## <font color= MediumSpringGreen> 2. Salvando o modelo\n"
      ],
      "metadata": {
        "id": "T-KW5dSpaXqU"
      }
    },
    {
      "cell_type": "markdown",
      "metadata": {
        "id": "Zn7QaUWuDoHB"
      },
      "source": [
        "Com o modelo treinado e testado irei salvar ele para que não haja a necessidade de repasasar novamente pelo treinamento. \n",
        "\n",
        "Escolhi o modelo otimizado do Gradient Boosting devido seu melhor desempenho médio da métrica AUC, levando a uma maior probabilidade de resultados corretos com o modelo."
      ]
    },
    {
      "cell_type": "code",
      "execution_count": 31,
      "metadata": {
        "id": "pT5jCSz8HgMq",
        "colab": {
          "base_uri": "https://localhost:8080/"
        },
        "outputId": "d475a2ce-f864-4f01-feea-0058e5a4b9c3"
      },
      "outputs": [
        {
          "output_type": "execute_result",
          "data": {
            "text/plain": [
              "['UTI_GradientBosting_preditor.joblib']"
            ]
          },
          "metadata": {},
          "execution_count": 31
        }
      ],
      "source": [
        "dump(modelo_gbc_otimizado, 'UTI_GradientBosting_preditor.joblib') "
      ]
    },
    {
      "cell_type": "code",
      "source": [
        "UTI_GradientBosting_preditor = load('UTI_GradientBosting_preditor.joblib') \n"
      ],
      "metadata": {
        "id": "ANwgzkbC9MMe"
      },
      "execution_count": 32,
      "outputs": []
    },
    {
      "cell_type": "code",
      "source": [
        "f.roda_modelo(UTI_GradientBosting_preditor,dados)"
      ],
      "metadata": {
        "id": "_McFuzCd_HP6",
        "colab": {
          "base_uri": "https://localhost:8080/"
        },
        "outputId": "538d9688-ab76-42e0-978f-aa145094dd62"
      },
      "execution_count": 33,
      "outputs": [
        {
          "output_type": "stream",
          "name": "stdout",
          "text": [
            "AUC 0.8419540229885056\n",
            "\n",
            "Classification Report\n",
            "              precision    recall  f1-score   support\n",
            "\n",
            "           0       0.83      0.86      0.85        29\n",
            "           1       0.83      0.79      0.81        24\n",
            "\n",
            "    accuracy                           0.83        53\n",
            "   macro avg       0.83      0.83      0.83        53\n",
            "weighted avg       0.83      0.83      0.83        53\n",
            "\n"
          ]
        }
      ]
    },
    {
      "cell_type": "markdown",
      "source": [
        "## <font color= MediumSpringGreen> 3. Considerações finais\n",
        "\n",
        "\n"
      ],
      "metadata": {
        "id": "UH4oDaZisCT0"
      }
    },
    {
      "cell_type": "markdown",
      "source": [
        "Devido as características do conjunto de dados iniciais, foi realizada diversas etapas na **limpeza e modelagem dos dados**:\n",
        "\n",
        "1. Excluiu os pacientes que já entraram nas duas primeiras horas na UTI, devido a incerteza se foi coletado os dados antes ou depois da entrada.\n",
        "2. Foi preenchido os dados faltantes do conjunto a partir do dado anterior e posterior a ele.\n",
        "3. Verifiquei se o paciente iria para a UTI ou não até a sua última janela e coloquei a informação na linha da primeira janela (0-2). Exclui as linhas com as demais janelas, para que pudesse prever com os resultados a partir das primeiras horas.\n",
        "4. Trasnformei a variável \"AGE_PERCENTIL\" em dados categóricos, afim de se tornar uma variável para o modelo.\n",
        "5. Exclui as variáveis com alta correlação entre elas, para que o modelo não sofra sobreajuste (overfitting).\n",
        "6. Mantive o gênero dos pacientes, pois de acordo com as literaturas citadas [[1](https://doi.org/10.1038/s41467-020-19741-6),[2](https://doi.org/10.1371/journal.pone.0237297)] há uma diferença entre os gêneros nas complicações da doença.\n",
        "7. Exclui as colunas que possuaim valores únicos (apenas 1, no qual foram as medidas \"DIFF\" das variáveis) em todas as linhas, para que pudesse ter um conjunto de dados mais limpo possível para o modelo.\n",
        "\n",
        "Na **análise exploratória** foi possível entender melhor as variáveis e o quadro geral:\n",
        "\n",
        "1. O total de pacientes do conjunto foi de 353.\n",
        "2. Desses 190 (54%) não tiveram entrada e 163 (46%) tiveram.\n",
        "3. Pacientes acima de 65 anos de idade tem uma maior frequência de entrada na UTI.\n",
        "4. Ao visualizar todas as faixas etárias, foi possível confirmar que a partir da faixa de 61-70 anos frequência se iguala e a partir dos 70 anos a entrada na UTI é maior.\n",
        "5. Também pude confirmar a questão da entrada na UTI através do gênero, no qual os homens tem maior incidência de complicações na doença.\n",
        "6. Analisei em conjunto todas as doenças anteriores dos pacientes, para pudesse entender ao todo como cada pessoa com estas características se comportaria na entrada ou não na UTI. A maior frequência está em pacientes que não tiveram nenhuma outra doença mas se concentrou em outras doenças. Talvez se esta variável estivesse mais detalhada em outras classificações, poderíamos ter um modelo mais assertivo do ponto de vista das doenças anteriores.\n",
        "7. Dentre os indicadores sanguíneos, observei os que tiveram maior diferença (positiva e negativa), entre as pessoas que entraram ou não na UTI foram: \n",
        "  * Negativa:\n",
        "    * Sódio\n",
        "    * Hematócritos\n",
        "    * Linfóciotos\n",
        "    * BIC Venoso\n",
        "    * PH Venoso\n",
        "  * Positiva:\n",
        "    * Lactato\n",
        "    * PCR\n",
        "    * SAT02 Venoso\n",
        "    * Cálcio\n",
        "    * Potássio\n",
        "8. Já nos sinais vitais os dois indicadores que tiveram maior diferença foram o de temperatura (-35%) e D-Dímero (22%) dos pacientes que não entraram na UTI.\n",
        "\n",
        "Durante o **desenvolvimento do modelo**, escolhi algumas etapas para definir o melhor:\n",
        "\n",
        "1. Baseado no [artigo científico](https://doi.org/10.1038/s41746-021-00456-x) citado, escolhi 3 modelos que tiveram maior índice de F1 para realizar os testes do conjunto de dados:\n",
        "  * Bagging Classifier\n",
        "  * Gradient Boosting Classifier\n",
        "  * Ramdom Florest\n",
        "2. Realizei os testes com cada um deles, visualizando as métricas de AUC, a tabela de precision, recall e f1-score, a matriz de confusão do teste e o AUC médio do intervalo de AUC coletado, ao rodar ele 50 vezes.\n",
        "3. A partir desse etapa, escolhi os dois modelos que tiveram melhor desempenho de AUC médio e Reccal no caso de entrada na UTI (pois é uma medida muito importante para que o modelo não errasse em pessoas que deveriam entrar na UTI e o modelo indicasse que ela não precisaria).\n",
        "4. Otimizei os hiperparâmetros do modelo com uma abordagem Bayesiana, procurando os melhores parâmetros. \n",
        "5. Realizei os testes das métricas novamente.\n",
        "6. Os resultados mostraram o Gradient Boosting otimizado com um melhor resultado de AUC médio (0.794) dentre o intervalo, além dele ter tido um reccal em pessoas que deveriam entrar na UTI de 0.79.\n",
        "\n",
        "\n",
        "Foi um modelo definido com uma métrica média não muito alta, mas ele poderá ser uma importante ferramenta para os profissionais da saúde poderem já se alertarem aos primeiros sinais dos pacientes ao entrarem no hospital.\n",
        "\n",
        "Comos próximos passos seria legal que ele estivesse fazendo parte de um sistema integrado as ferramentas dos profissionais da saúde, mostrando a estimativa do modelo."
      ],
      "metadata": {
        "id": "yLZRMBuT6uC5"
      }
    },
    {
      "cell_type": "markdown",
      "source": [
        "## <font color= MediumSpringGreen> Referências\n",
        "\n",
        "IACCARINO, G. et al. Gender differences in predictors of intensive care units admission among COVID-19 patients: The results of the SARS-RAS study of the Italian Society of Hypertension. **PloS one**, v. 15(10), oct. 2020. DOI https://doi.org/10.1371/journal.pone.0237297 . Disponível em: https://journals.plos.org/plosone/article?id=10.1371/journal.pone.0237297 . Acesso em: 25 jan. 2022.\n",
        "\n",
        "PECKHAM, H. et al. Male sex identified by global COVID-19 meta-analysis as a risk factor for death and ITU admission. **Nature Communications**, v. 11(6317), dec. 2020. DOI: https://doi.org/10.1038/s41467-020-19741-6 . Disponível em: https://www.nature.com/articles/s41467-020-19741-6#citeas . Acesso em: 25 jan. 2022.\n",
        "\n",
        "SUBUDHI, S. et al. Comparing machine learning algorithms for predicting ICU admission and mortality in COVID-19. **NPJ Digit**. Med. 4, v. 87, may 2021. DOI: https://doi.org/10.1038/s41746-021-00456-x . Disponível em: https://www.nature.com/articles/s41746-021-00456-x#citeas . Acesso em: 29 jan. 2022\n",
        "\n"
      ],
      "metadata": {
        "id": "Wql-Gcs5RWuw"
      }
    }
  ],
  "metadata": {
    "colab": {
      "collapsed_sections": [],
      "name": "Desenvolvimento_do_modelo.ipynb",
      "provenance": [],
      "authorship_tag": "ABX9TyM1ne2kU0DCNya0yLfHsU5H",
      "include_colab_link": true
    },
    "kernelspec": {
      "display_name": "Python 3",
      "name": "python3"
    },
    "language_info": {
      "name": "python"
    }
  },
  "nbformat": 4,
  "nbformat_minor": 0
}