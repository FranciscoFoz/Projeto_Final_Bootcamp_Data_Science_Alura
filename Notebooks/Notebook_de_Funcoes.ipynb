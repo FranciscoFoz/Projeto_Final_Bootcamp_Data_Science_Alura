{
  "nbformat": 4,
  "nbformat_minor": 0,
  "metadata": {
    "colab": {
      "name": "Notebook_de_Funcoes.ipynb",
      "provenance": [],
      "collapsed_sections": [],
      "authorship_tag": "ABX9TyMle5fOjvcKWJFbLYtwrwsV",
      "include_colab_link": true
    },
    "kernelspec": {
      "name": "python3",
      "display_name": "Python 3"
    },
    "language_info": {
      "name": "python"
    }
  },
  "cells": [
    {
      "cell_type": "markdown",
      "metadata": {
        "id": "view-in-github",
        "colab_type": "text"
      },
      "source": [
        "<a href=\"https://colab.research.google.com/github/FranciscoFoz/Projeto_Final_Bootcamp_Data_Science_Alura/blob/main/Notebooks/Notebook_de_Funcoes.ipynb\" target=\"_parent\"><img src=\"https://colab.research.google.com/assets/colab-badge.svg\" alt=\"Open In Colab\"/></a>"
      ]
    },
    {
      "cell_type": "markdown",
      "source": [
        "# <font color= MediumSpringGreen\t\tsize = 6> Bootcamp Data Science Alura - Projeto Final </font>\n",
        "\n",
        "# <font color= MediumSpringGreen\t\tsize = 6> Notebook de funções"
      ],
      "metadata": {
        "id": "XF1ZLrmIvcUl"
      }
    },
    {
      "cell_type": "markdown",
      "source": [
        "## <font color= MediumSpringGreen> 1. Funções de manipulação de dados\n"
      ],
      "metadata": {
        "id": "suGuR3PpvzU7"
      }
    },
    {
      "cell_type": "markdown",
      "source": [
        "### <font color= MediumSpringGreen> 1.1 remover_pacientes_com_primeira_janela_positiva_para_UTI\n",
        "\n",
        "Esta função irá remover os pacientes que possuam resultado positivo(1) para entrada na UTI dentro da primeira janela (0-2)"
      ],
      "metadata": {
        "id": "UIhT-yRCv7oi"
      }
    },
    {
      "cell_type": "code",
      "execution_count": null,
      "metadata": {
        "id": "TfZSxYnPva6D"
      },
      "outputs": [],
      "source": [
        "def remover_pacientes_com_primeira_janela_positiva_para_UTI(dados):\n",
        "  a_remover = dados.query(\"WINDOW == '0-2' and ICU == 1\")['PATIENT_VISIT_IDENTIFIER'].values            #Query dos pacientes que possuam a primeira janela e resultado positivo\n",
        "  dados_limpos = dados.query(\"PATIENT_VISIT_IDENTIFIER not in @a_remover\")                              #Query removendo os pacientes na condição acima\n",
        "  return dados_limpos"
      ]
    },
    {
      "cell_type": "markdown",
      "source": [
        "### <font color= MediumSpringGreen> 1.2 preenche_tabela\n",
        "Esta função irá preencher a tabela onde esteja NAN com os valores anteriores e depois com os posteriores."
      ],
      "metadata": {
        "id": "P52JkSajLST-"
      }
    },
    {
      "cell_type": "code",
      "source": [
        "def preenche_tabela(dados):\n",
        "  features_continuas_colunas = dados.iloc[:,13:-2].columns                                                                                                   #Selecionar colunas de variáveis contínuas\n",
        "  features_continuas = dados.groupby('PATIENT_VISIT_IDENTIFIER', as_index=False)[features_continuas_colunas].fillna(method='bfill').fillna(method='ffill')  #Preencher os dados NAN da tabela\n",
        "  features_categoricas = dados.iloc[:,:13]                                                                                                                   #Selecionar as categóricas\n",
        "  saida = dados.iloc[:, -2:]                                                                                                                                #Selecionar os dados de saída\n",
        "  dados_finais = pd.concat([features_categoricas,features_continuas,saida],ignore_index=True,axis=1)                                                        #Concatenar os dados anteriores\n",
        "  dados_finais.columns = dados.columns                                                                                                                      #Renomear as colunas\n",
        "  return dados_finais"
      ],
      "metadata": {
        "id": "94ya1X2TLSee"
      },
      "execution_count": 1,
      "outputs": []
    },
    {
      "cell_type": "markdown",
      "source": [
        "### <font color= MediumSpringGreen> 1.2 prepare_window\n",
        "Esta função irá localizar todas as linhas que possuam janela entre \"0-2\" e UTI igual a 1, retornando as linhas."
      ],
      "metadata": {
        "id": "k24z3kxzcNUf"
      }
    },
    {
      "cell_type": "code",
      "source": [
        "def prepare_window(rows):                                                   \n",
        "  if(np.any(rows['ICU'])):                                                      \n",
        "    rows.loc[rows['WINDOW']=='0-2','ICU'] = 1                                   #Condição se para localizar as linhas com os filtros desejados.\n",
        "  return rows.loc[rows['WINDOW'] == '0-2']"
      ],
      "metadata": {
        "id": "UamDk_-eUs20"
      },
      "execution_count": 8,
      "outputs": []
    },
    {
      "cell_type": "markdown",
      "source": [
        "### <font color= MediumSpringGreen> 1.2 prepare_window\n",
        "Esta função irá localizar todas as linhas que possuam janela entre \"0-2\" e UTI igual a 1, retornando as linhas."
      ],
      "metadata": {
        "id": "bp2oIYYdtxyk"
      }
    },
    {
      "cell_type": "code",
      "source": [
        ""
      ],
      "metadata": {
        "id": "Y-ua_JxhtxTd"
      },
      "execution_count": null,
      "outputs": []
    }
  ]
}