{
  "nbformat": 4,
  "nbformat_minor": 0,
  "metadata": {
    "colab": {
      "name": "Notebook_de_Funcoes.ipynb",
      "provenance": [],
      "collapsed_sections": [],
      "authorship_tag": "ABX9TyMDRZSqtyKkuRYygAZZn8iq",
      "include_colab_link": true
    },
    "kernelspec": {
      "name": "python3",
      "display_name": "Python 3"
    },
    "language_info": {
      "name": "python"
    }
  },
  "cells": [
    {
      "cell_type": "markdown",
      "metadata": {
        "id": "view-in-github",
        "colab_type": "text"
      },
      "source": [
        "<a href=\"https://colab.research.google.com/github/FranciscoFoz/Projeto_Final_Bootcamp_Data_Science_Alura/blob/main/Notebooks/Notebook_de_Funcoes.ipynb\" target=\"_parent\"><img src=\"https://colab.research.google.com/assets/colab-badge.svg\" alt=\"Open In Colab\"/></a>"
      ]
    },
    {
      "cell_type": "markdown",
      "source": [
        "# <font color= MediumSpringGreen\t\tsize = 6> Bootcamp Data Science Alura - Projeto Final </font>\n",
        "\n",
        "# <font color= MediumSpringGreen\t\tsize = 6> Notebook de funções\n",
        "\n",
        "4º Notebook"
      ],
      "metadata": {
        "id": "XF1ZLrmIvcUl"
      }
    },
    {
      "cell_type": "markdown",
      "source": [
        "## <font color= MediumSpringGreen> 1. Funções de manipulação de dados\n"
      ],
      "metadata": {
        "id": "suGuR3PpvzU7"
      }
    },
    {
      "cell_type": "markdown",
      "source": [
        "### <font color= MediumSpringGreen> 1.1 remover_pacientes_com_primeira_janela_positiva_para_UTI\n",
        "\n",
        "Esta função irá remover os pacientes que possuam resultado positivo(1) para entrada na UTI dentro da primeira janela (0-2)"
      ],
      "metadata": {
        "id": "UIhT-yRCv7oi"
      }
    },
    {
      "cell_type": "code",
      "execution_count": null,
      "metadata": {
        "id": "TfZSxYnPva6D"
      },
      "outputs": [],
      "source": [
        "def remover_pacientes_com_primeira_janela_positiva_para_UTI(dados):\n",
        "  a_remover = dados.query(\"WINDOW == '0-2' and ICU == 1\")['PATIENT_VISIT_IDENTIFIER'].values            #Query dos pacientes que possuam a primeira janela e resultado positivo\n",
        "  dados_limpos = dados.query(\"PATIENT_VISIT_IDENTIFIER not in @a_remover\")                              #Query removendo os pacientes na condição acima\n",
        "  return dados_limpos"
      ]
    },
    {
      "cell_type": "markdown",
      "source": [
        "### <font color= MediumSpringGreen> 1.2 preenche_tabela\n",
        "Esta função irá preencher a tabela onde esteja NAN com os valores anteriores e depois com os posteriores."
      ],
      "metadata": {
        "id": "P52JkSajLST-"
      }
    },
    {
      "cell_type": "code",
      "source": [
        "def preenche_tabela(dados):\n",
        "  features_continuas_colunas = dados.iloc[:,4:-2].columns                                                                                                   #Selecionar colunas de variáveis contínuas\n",
        "  features_continuas = dados.groupby('PATIENT_VISIT_IDENTIFIER', as_index=False)[features_continuas_colunas].fillna(method='bfill').fillna(method='ffill')  #Preencher os dados NAN da tabela\n",
        "  features_categoricas = dados.iloc[:,:4]                                                                                                                   #Selecionar as categóricas\n",
        "  saida = dados.iloc[:, -2:]                                                                                                                                #Selecionar os dados de saída\n",
        "  dados_finais = pd.concat([features_categoricas,features_continuas,saida],ignore_index=True,axis=1)                                                        #Concatenar os dados anteriores\n",
        "  dados_finais.columns = dados.columns                                                                                                                      #Renomear as colunas\n",
        "  return dados_finais"
      ],
      "metadata": {
        "id": "94ya1X2TLSee"
      },
      "execution_count": null,
      "outputs": []
    },
    {
      "cell_type": "markdown",
      "source": [
        "### <font color= MediumSpringGreen> 1.2 prepare_window\n",
        "Esta função irá localizar todas as linhas que possuam janela entre \"0-2\" e UTI igual a 1, retornando as linhas."
      ],
      "metadata": {
        "id": "k24z3kxzcNUf"
      }
    },
    {
      "cell_type": "code",
      "source": [
        "def prepare_window(rows):                                                   \n",
        "  if(np.any(rows['ICU'])):                                                      \n",
        "    rows.loc[rows['WINDOW']=='0-2','ICU'] = 1                                   #Condição se para localizar as linhas com os filtros desejados.\n",
        "  return rows.loc[rows['WINDOW'] == '0-2']"
      ],
      "metadata": {
        "id": "UamDk_-eUs20"
      },
      "execution_count": null,
      "outputs": []
    },
    {
      "cell_type": "markdown",
      "source": [
        "### <font color= MediumSpringGreen> 1.3 excluir_coluna_id_paciente\n",
        "Esta função irá excluir a coluna do ID do paciente."
      ],
      "metadata": {
        "id": "bp2oIYYdtxyk"
      }
    },
    {
      "cell_type": "code",
      "source": [
        "def excluir_coluna_id_paciente(dados):\n",
        "  dados_sem_coluna_id_paciente = dados.drop(['PATIENT_VISIT_IDENTIFIER'],axis=1)      #Excluir coluna do id do paciente\n",
        "  return dados_sem_coluna_id_paciente                               "
      ],
      "metadata": {
        "id": "Y-ua_JxhtxTd"
      },
      "execution_count": null,
      "outputs": []
    },
    {
      "cell_type": "markdown",
      "source": [
        "### <font color= MediumSpringGreen> 1.4 transformar_AGE_PERCENTIL_em_dados_categoricos\n",
        "Esta função irá excluir a coluna do ID do paciente."
      ],
      "metadata": {
        "id": "qXHvrCGiK3o2"
      }
    },
    {
      "cell_type": "code",
      "source": [
        "def transformar_AGE_PERCENTIL_em_dados_categoricos(dados):\n",
        "  dados.AGE_PERCENTIL = dados.AGE_PERCENTIL.astype('category').cat.codes                              #Transformar coluna AGE PECENTIL em dados categóricos\n",
        "  return dados"
      ],
      "metadata": {
        "id": "MSHP0-xCK1GC"
      },
      "execution_count": null,
      "outputs": []
    },
    {
      "cell_type": "markdown",
      "source": [
        "### <font color= MediumSpringGreen> 1.5 remover_variaveis_correlacionadas\n",
        "Esta função irá filtrar os dados entre as variáveis, excluindo: \"AGE_ABOVE65\",\"AGE_PERCENTIL\", \"GENDER\", \"WINDOW\" e \"ICU\".\n",
        "\n",
        "Criará uma matriz de correlação entre eles, permanecendo apenas com o triângulo superior.\n",
        "\n",
        "Excluirá as colunas com correção passada como parâmetro.\n"
      ],
      "metadata": {
        "id": "gLJjjOLlLog9"
      }
    },
    {
      "cell_type": "code",
      "source": [
        "def remover_variaveis_correlacionadas(dados,valor_de_corte):\n",
        "\n",
        "  matriz_corr = dados.iloc[:,3:-2].corr().abs()                                                               #Filtrar dados correlacionando-os e transformando-os em números absolutos.\n",
        "  matriz_superior = matriz_corr.where(np.triu(np.ones(matriz_corr.shape),k=1).astype(np.bool))                #Criar matriz superior da matriz de correlação\n",
        "  excluir = [coluna for coluna in  matriz_superior if any(matriz_superior[coluna] > valor_de_corte)]          #Selecionar colunas dentro da matriz superior que contenham alta correlação\n",
        "\n",
        "  return dados.drop(excluir,axis=1)                                                                           #Retornar o dataframe sem as colunas com alta correlação"
      ],
      "metadata": {
        "id": "X5Co-KnVLn95"
      },
      "execution_count": null,
      "outputs": []
    },
    {
      "cell_type": "markdown",
      "source": [
        "### <font color= MediumSpringGreen> 1.6 limpar_colunas_com_valores_unicos\n",
        "Esta função irá excluir as colunas que possuíam valores únicos de -1."
      ],
      "metadata": {
        "id": "0Emf33Bub7nt"
      }
    },
    {
      "cell_type": "code",
      "source": [
        "def limpar_colunas_com_valores_unicos(dados):\n",
        "  dados = dados.drop(['ALBUMIN_DIFF','BE_ARTERIAL_DIFF','BE_VENOUS_DIFF','BIC_ARTERIAL_DIFF','BIC_VENOUS_DIFF','BILLIRUBIN_DIFF','BLAST_DIFF','CALCIUM_DIFF',\n",
        "                            'CREATININ_DIFF','FFA_DIFF','GGT_DIFF','GLUCOSE_DIFF','HEMATOCRITE_DIFF', 'HEMOGLOBIN_DIFF','INR_DIFF','LACTATE_DIFF','LEUKOCYTES_DIFF',\n",
        "                            'LINFOCITOS_DIFF', 'NEUTROPHILES_DIFF','P02_ARTERIAL_DIFF','P02_VENOUS_DIFF','PC02_ARTERIAL_DIFF','PC02_VENOUS_DIFF','PCR_DIFF','PH_ARTERIAL_DIFF',\n",
        "                            'PH_VENOUS_DIFF','PLATELETS_DIFF','POTASSIUM_DIFF','SAT02_ARTERIAL_DIFF','SAT02_VENOUS_DIFF','SODIUM_DIFF','TGO_DIFF','TGP_DIFF','TTPA_DIFF',\n",
        "                            'UREA_DIFF','DIMER_DIFF','BLOODPRESSURE_DIASTOLIC_DIFF', 'BLOODPRESSURE_SISTOLIC_DIFF','HEART_RATE_DIFF', 'RESPIRATORY_RATE_DIFF', 'TEMPERATURE_DIFF','OXYGEN_SATURATION_DIFF',\n",
        "                            'RESPIRATORY_RATE_MIN','BLOODPRESSURE_DIASTOLIC_MAX'],\n",
        "                           axis=1)\n",
        "  return dados"
      ],
      "metadata": {
        "id": "QehOROm5b6_r"
      },
      "execution_count": 1,
      "outputs": []
    },
    {
      "cell_type": "markdown",
      "source": [
        "## <font color= MediumSpringGreen> 2. Funções de criação de visualizações\n"
      ],
      "metadata": {
        "id": "COPo9HfSaBq5"
      }
    },
    {
      "cell_type": "markdown",
      "source": [
        "### <font color= MediumSpringGreen> 2.1 grafico_total_pacientes\n",
        "Esta função criará um gráfico de cartão com o total de pacientes"
      ],
      "metadata": {
        "id": "I6nRW5QxaKao"
      }
    },
    {
      "cell_type": "code",
      "source": [
        "def grafico_total_pacientes():\n",
        "\n",
        "  plt.figure(figsize=(7, 3),                                                    #Ajustando o tamanho\n",
        "            facecolor='white')                                                  #Escolhendo a cor do fundo\n",
        "\n",
        "  for spine in plt.gca().spines.values():                                       #Removendo os eixos do gráfico\n",
        "      spine.set_visible(False)\n",
        "\n",
        "  plt.tick_params(bottom=False, left=False, labelleft=False, labelbottom=False) #Excluindo os valores dos eixos\n",
        "\n",
        "\n",
        "  plt.text(0, 1.03,                                                             #Ajustando posição dos eixos\n",
        "          'Número total de pacientes',                                          #Colocando o título\n",
        "          fontsize=25,                                                          #Formatando o tamanho  \n",
        "          color='black',                                                        #Formatando a cor\n",
        "          weight=\"bold\")                                                        #Formatando em negrito\n",
        "\n",
        "  plt.text(0, 0.25,                                                             #Ajustando posição dos eixos\n",
        "          '$\\\\bf{353}$',                                                        #Colocando número com formatação em negrito com auxílio de regex                     \n",
        "          fontsize=130,                                                         #Formatando o tamanho\n",
        "          color='#4682B4')                                                      #Formatando a cor\n",
        "  plt.show()"
      ],
      "metadata": {
        "id": "RiBD5-YLRC42"
      },
      "execution_count": null,
      "outputs": []
    },
    {
      "cell_type": "markdown",
      "source": [
        "### <font color= MediumSpringGreen> 2.2 grafico_quantidade_entrada_e_nao_entrada_UTI\n",
        "Esta função criará um gráfico de com a quantidade de pacientes que deram e não deram entrada na UTI."
      ],
      "metadata": {
        "id": "8dSvikGld56r"
      }
    },
    {
      "cell_type": "code",
      "source": [
        "def grafico_quantidade_entrada_e_nao_entrada_UTI():\n",
        "                                           \n",
        "  tabela_freq_entrada_UTI = pd.DataFrame(dados_sem_valores_unicos['ICU'].value_counts())     #Criar DataFrame com a quantidade\n",
        "  tabela_freq_entrada_UTI.columns = ['UTI']                                               #Renomear coluna\n",
        "  tabela_freq_entrada_UTI.index = ['Não','Sim']                                           #Renomear índice\n",
        "\n",
        "  tabela_freq_entrada_UTI.T.plot(kind='barh',                                    #Plotar o gráfico\n",
        "                                      stacked=True,                              #Empilhar as barras\n",
        "                                      figsize=(15,6),                            #Ajustar o tamanho\n",
        "                                      color=['#808080','#800000'],               #Escolher a cor\n",
        "                                      fontsize=15,                               #Ajustar o tamanho da fonte\n",
        "                                      legend=None)                               #Excluir legenda\n",
        "\n",
        "  for spine in plt.gca().spines.values():                                        #Remover os eixos do gráfico\n",
        "      spine.set_visible(False)\n",
        "\n",
        "  quantidade_sem_entrada = tabela_freq_entrada_UTI['UTI'][0]                                 \n",
        "  quantidade_com_entrada = tabela_freq_entrada_UTI['UTI'][1]\n",
        "\n",
        "  sem_entrada_percentual = str(round(quantidade_sem_entrada/tabela_freq_entrada_UTI['UTI'].sum(),2)*100)   \n",
        "  com_entrada_percentual = str(round(quantidade_com_entrada/tabela_freq_entrada_UTI['UTI'].sum(),2)*100)    \n",
        "\n",
        "\n",
        "                        \n",
        "  plt.text(quantidade_sem_entrada/2.2,0,                                         #Escolher a posição x e y do texto de %\n",
        "          sem_entrada_percentual + '%',                                          #Plotar o texto com o %\n",
        "          fontweight ='bold',                                                    #Formatar para negrito\n",
        "          fontsize = 20)                                                         #Aumentar a fonte\n",
        "\n",
        "  plt.text(tabela_freq_entrada_UTI['UTI'].sum() - quantidade_sem_entrada/1.8,0,  #Escolher a posição x e y do texto\n",
        "          com_entrada_percentual + '%',                                          #Plotar o texto com o %\n",
        "          fontweight ='bold',                                                    #Formatar para negrito\n",
        "          fontsize = 20)                                                         #Aumentar a fonte\n",
        "\n",
        "  plt.yticks([])                                                                 #Excluir valores do eixo y\n",
        "  plt.xticks([])                                                                 #Excluir valores do eixo x\n",
        "\n",
        "  plt.text(-0.3, -0.4,                                                           #Escolher posição   \n",
        "          'Do total de $\\\\bf{ 353 \\\\ pacientes}$.' ,                             #Texto com regex\n",
        "          fontsize=25)                                                           #Escolher tamanho do texto                                            \n",
        "\n",
        "  plt.text(-0.3, -0.5,                                                           #Escolher posição  \n",
        "          '$\\\\bf{ 190 \\\\ não \\\\ tiveram \\\\ entrada}$.' ,                         #Texto com regex\n",
        "          fontsize=25,                                                           #Escolher tamanho do texto \n",
        "          color='#808080')                                                       #Escolher cor\n",
        "\n",
        "  plt.text(-0.3, -0.6,                                                           #Escolher posição\n",
        "          'e $\\\\bf{ 163 \\\\ tiveram \\\\ entrada}$.' ,                              #Texto com regex\n",
        "          fontsize=25,                                                           #Escolher tamanho do texto\n",
        "          color='#800000')                                                       #Escolher cor\n",
        "          \n",
        "  plt.title('Quantidade de pacientes com entrada na UTI',  #Colocar o título\n",
        "            fontsize=30,                                                         #Tamanho do texto\n",
        "            loc='left',                                                          #Ajustar do lado esquerdo\n",
        "            color='black')                                                       #Escolher a cor\n",
        "\n",
        "  plt.show()"
      ],
      "metadata": {
        "id": "2_DNK032d6Rh"
      },
      "execution_count": null,
      "outputs": []
    },
    {
      "cell_type": "markdown",
      "source": [
        "### <font color= MediumSpringGreen> 2.3 grafico_abaixo_acima_65anos\n",
        "Esta função criará o gráfico comparativo entre os pacientes abaixo e acima de 65 anos de idade que tiveram ou não entrada na UTI."
      ],
      "metadata": {
        "id": "oRmfMYMVIyGN"
      }
    },
    {
      "cell_type": "code",
      "source": [
        "def grafico_abaixo_acima_65anos():\n",
        "\n",
        "  tabela_freq = dados_sem_valores_unicos[['AGE_ABOVE65','ICU']].value_counts().reset_index()  #Criar DataFrame com a quantidade\n",
        "  tabela_freq['AGE_ABOVE65'] = tabela_freq['AGE_ABOVE65'].map({0:'Abaixo',1:'Acima'})      #Mapear para substituir os valores de 0 e 1\n",
        "  tabela_freq.columns = ['ACIMA_65_ANOS','UTI','QTD']                                      #Modificar as colunas\n",
        "  tabela_freq = pd.pivot_table(tabela_freq,'QTD','ACIMA_65_ANOS','UTI')                    #Pivotar a tabela\n",
        "\n",
        "\n",
        "  g = tabela_freq.plot(kind='bar',                                                         #Criar gráfico\n",
        "                      color=['#808080']+['#800000'],                                       #Escolher cores das barras\n",
        "                      figsize=(15, 8),                                                     #Escolher tamanho da figura\n",
        "                      ylabel=False,                                                        #Excluir rótulo do eixo y y\n",
        "                      legend=None)                                                         #Excluir legenda\n",
        "\n",
        "  for rotulo in g.containers:                                                              #Criar rótulo de dados nas barras\n",
        "      g.bar_label(rotulo,fontsize=15,padding=5)\n",
        "\n",
        "  for spine in plt.gca().spines.values():                                                  #Remover os eixos do gráfico\n",
        "      spine.set_visible(False)\n",
        "                        \n",
        "  plt.xticks(rotation=0, fontsize=15)                                                      #Excluir valores do eixo x\n",
        "  plt.yticks([])                                                                           #Aumentar a fonte do eixo y\n",
        "  plt.xlabel(None)                                                                         #Excluir rótulo do eixo y\n",
        "  plt.ylabel(None)                                                                         #Excluir rótulo do eixo y\n",
        "\n",
        "\n",
        "\n",
        "  plt.title('Comparativo entre pacientes abaixo e acima de 65 anos'+ 2*('\\n'),fontsize=25,loc='left')           #Colocar o título\n",
        "  plt.text(-0.5,145,'A entrada na UTI é maior em pacientes com idade superior',fontsize=20,color='#800000')     #Colocar o subtítulo\n",
        "\n",
        "  plt.show()"
      ],
      "metadata": {
        "id": "Rised9vAeCDt"
      },
      "execution_count": null,
      "outputs": []
    },
    {
      "cell_type": "markdown",
      "source": [
        "### <font color= MediumSpringGreen> 2.4 faixa_etaria_entrada_UTI\n",
        "Esta função criará o gráfico comparativo entre as faixas etárias entre os pacientes que tiveram ou não entrada na UTI."
      ],
      "metadata": {
        "id": "tyLv-SzNRsAN"
      }
    },
    {
      "cell_type": "code",
      "source": [
        "def faixa_etaria_entrada_UTI():\n",
        "  rotulo = {5:'51-60 anos', 8:'81-90 anos', 0:'0-10 anos', 3:'31-40 anos', 6:'61-70 anos', 1:'11-20 anos', 4:'41-50 anos', 7:'71-80 anos',2:'21-30 anos', 9:'Acima de 90 anos'}  #Rótulos da faixa etária\n",
        "  tabela_freq = pd.DataFrame(data={'FAIXA_ETARIA': list(dados_sem_valores_unicos['AGE_PERCENTIL']), 'UTI': list(dados_sem_valores_unicos['ICU'])})                                     #Criar dataframe\n",
        "  tabela_freq['FAIXA_ETARIA'] = tabela_freq['FAIXA_ETARIA'].map(rotulo)                                                                                                          #Mapear valores dos rótulos\n",
        "  tabela_freq = tabela_freq.value_counts().reset_index()                                                                                                                         #Criar frequência dos valores\n",
        "  tabela_freq.columns = ['FAIXA_ETARIA','UTI','QTD']                                                                                                                             #Renomear colunas\n",
        "  tabela_freq = pd.pivot_table(tabela_freq,'QTD','FAIXA_ETARIA','UTI')                                                                                                           #Pivotar a tabela\n",
        "\n",
        "  g = tabela_freq.plot(kind='bar',                                              #Criar gráfico\n",
        "                        color=['#808080']+['#800000'],                          #Escolher cores das barras\n",
        "                        figsize=(25, 5),                                        #Escolher tamanho da figura\n",
        "                        ylabel=False,                                           #Excluir rótulo do eixo y y\n",
        "                        legend=None)                                            #Excluir legenda\n",
        "\n",
        "  for rotulo in g.containers:                                                   #Criar rótulo de dados nas barras\n",
        "        g.bar_label(rotulo,fontsize=15,padding=5)\n",
        "\n",
        "\n",
        "  for spine in plt.gca().spines.values():                                       #Remover os eixos do gráfico\n",
        "        spine.set_visible(False)\n",
        "                          \n",
        "  plt.xticks(rotation=0, fontsize=15)                                           #Excluir valores do eixo x\n",
        "  plt.yticks([])                                                                #Aumentar a fonte do eixo y\n",
        "  plt.xlabel(None)                                                              #Excluir rótulo do eixo y\n",
        "  plt.ylabel(None)                                                              #Excluir rótulo do eixo y\n",
        "\n",
        "\n",
        "\n",
        "  plt.title('Quantidade de pacientes que entraram ou não na UTI por faixa etária'+ 2*('\\n'),fontsize=25,loc='left')           #Colocar o título\n",
        "  plt.text(-0.5, 36,'A partir dos 70 anos a entrada na UTI é superior  ',fontsize=20,color='#800000')                         #Colocar o subtítulo\n",
        "\n",
        "\n",
        "  plt.show()"
      ],
      "metadata": {
        "id": "olabJaE3SEfo"
      },
      "execution_count": null,
      "outputs": []
    },
    {
      "cell_type": "markdown",
      "source": [
        "### <font color= MediumSpringGreen> 2.5 grafico_genero_UTI\n",
        "Esta função criará o gráfico comparativo entre os generos dos pacientes que tiveram ou não entrada na UTI."
      ],
      "metadata": {
        "id": "XShPkVXRVOGK"
      }
    },
    {
      "cell_type": "code",
      "source": [
        " def grafico_genero_UTI():\n",
        "  tabela_freq = pd.DataFrame(data={'FAIXA_ETARIA': list(dados_sem_valores_unicos['GENDER']), 'UTI': list(dados_sem_valores_unicos['ICU'])})    #Criar dataframe\n",
        "  tabela_freq['FAIXA_ETARIA'] = tabela_freq['FAIXA_ETARIA'].map({0:'Masculino',1:'Feminino'})                                            #Mapear valores dos rótulos\n",
        "  tabela_freq = tabela_freq.value_counts().reset_index()                                                                                 #Criar frequência dos valores\n",
        "  tabela_freq.columns = ['GENERO','UTI','QTD']                                                                                           #Renomear colunas\n",
        "  tabela_freq = pd.pivot_table(tabela_freq,'QTD','GENERO','UTI')                                                                         #Pivotar a tabela\n",
        "\n",
        "\n",
        "  g = tabela_freq.plot(kind='bar',                                              #Criar gráfico\n",
        "                          color=['#808080']+['#800000'],                          #Escolher cores das barras\n",
        "                          figsize=(15, 8),                                        #Escolher tamanho da figura\n",
        "                          ylabel=False,                                           #Excluir rótulo do eixo y y\n",
        "                          legend=None)                                            #Excluir legenda\n",
        "\n",
        "  for rotulo in g.containers:                                                   #Criar rótulo de dados nas barras\n",
        "          g.bar_label(rotulo,fontsize=15,padding=5)\n",
        "\n",
        "\n",
        "  for spine in plt.gca().spines.values():                                       #Remover os eixos do gráfico\n",
        "          spine.set_visible(False)\n",
        "                            \n",
        "  plt.xticks(rotation=0, fontsize=15)                                           #Excluir valores do eixo x\n",
        "  plt.yticks([])                                                                #Aumentar a fonte do eixo y\n",
        "  plt.xlabel(None)                                                              #Excluir rótulo do eixo y\n",
        "  plt.ylabel(None)                                                              #Excluir rótulo do eixo y\n",
        "\n",
        "\n",
        "  plt.title('Quantidade de pacientes que entraram ou não na UTI por gênero'+ 2*('\\n'),fontsize=25,loc='left')           #Colocar o título\n",
        "  plt.text(-0.5, 125,'O gênero masculino tem uma maior frequência de entrada na UTI',fontsize=20,color='#800000')                         #Colocar o subtítulo\n",
        "\n",
        "\n",
        "  plt.show()"
      ],
      "metadata": {
        "id": "MCGAsoaGVOZS"
      },
      "execution_count": null,
      "outputs": []
    },
    {
      "cell_type": "markdown",
      "source": [
        "### <font color= MediumSpringGreen> 2.6 grafico_percentual_diferenca_sanguinea_5_menores\n",
        "Esta função criará o gráfico comparativo entre as menores diferenças dos valores sanguíneos entre os pacientes que tiveram entrada na UTI sob o que não tiveram."
      ],
      "metadata": {
        "id": "qquvQRTZ6oxs"
      }
    },
    {
      "cell_type": "code",
      "source": [
        "def grafico_percentual_diferenca_sanguinea_5_menores():\n",
        "  g = diferenca_percentual.tail(5).plot(kind='barh',                              #Escolher cores das barras\n",
        "                                        color=['#808080'],\n",
        "                                        figsize=(15, 8),                          #Escolher tamanho da figura\n",
        "                                        ylabel=False,                             #Excluir rótulo do eixo y y\n",
        "                                        legend=None)                              #Excluir legenda\n",
        "\n",
        "  for rotulo in g.containers:                                                     #Criar rótulo de dados nas barras\n",
        "        g.bar_label(rotulo,fontsize=15,padding=5)\n",
        "\n",
        "  for spine in plt.gca().spines.values():                                         #Remover os eixos do gráfico\n",
        "        spine.set_visible(False)\n",
        "                          \n",
        "  plt.xticks([])                                                                  #Excluir valores do eixo x\n",
        "  plt.yticks(fontsize=15)                                                         #Aumentar a fonte do eixo y\n",
        "  plt.xlabel(None)                                                                #Excluir rótulo do eixo y\n",
        "  plt.ylabel(None)                                                                #Excluir rótulo do eixo y\n",
        "  plt.xlim(-70,0)\n",
        "\n",
        "\n",
        "\n",
        "  plt.text(-80,4.5,'Percentual de diferença dos indicadores sanguíneos dos pacientes'+ 2*('\\n'),fontsize=25)           #Colocar o título\n",
        "  plt.text(-80,4.2,'Top 5 menores entre os pacientes que tiveram entrada pelos que não tiveram  '+ 2*('\\n'),fontsize=20)           #Colocar o título\n",
        "\n",
        "  plt.show()"
      ],
      "metadata": {
        "id": "GxUGZMim6mSu"
      },
      "execution_count": null,
      "outputs": []
    },
    {
      "cell_type": "markdown",
      "source": [
        "### <font color= MediumSpringGreen> 2.7 grafico_percentual_diferenca_sanguinea_5_maiores\n",
        "Esta função criará o gráfico comparativo entre as maiores diferenças dos valores sanguíneos entre os pacientes que tiveram entrada na UTI sob o que não tiveram."
      ],
      "metadata": {
        "id": "NK4HcvWV64dE"
      }
    },
    {
      "cell_type": "code",
      "source": [
        "def grafico_percentual_diferenca_sanguinea_5_maiores():\n",
        "  diferenca_percentual.sort_values(by='mean',ascending=True,inplace=True)\n",
        "  g = diferenca_percentual.tail(5).plot(kind='barh',                              #Escolher cores das barras\n",
        "                                        color=['#808080'],\n",
        "                                        figsize=(15, 8),                          #Escolher tamanho da figura\n",
        "                                        ylabel=False,                             #Excluir rótulo do eixo y y\n",
        "                                        legend=None)                              #Excluir legenda\n",
        "\n",
        "  for rotulo in g.containers:                                                     #Criar rótulo de dados nas barras\n",
        "        g.bar_label(rotulo,fontsize=15,padding=5)\n",
        "\n",
        "  for spine in plt.gca().spines.values():                                         #Remover os eixos do gráfico\n",
        "        spine.set_visible(False)\n",
        "                          \n",
        "  plt.xticks([])                                                                  #Excluir valores do eixo x\n",
        "  plt.yticks(fontsize=15)                                                         #Aumentar a fonte do eixo y\n",
        "  plt.xlabel(None)                                                                #Excluir rótulo do eixo y\n",
        "  plt.ylabel(None)                                                                #Excluir rótulo do eixo y\n",
        "\n",
        "\n",
        "\n",
        "  plt.text(-15,4.5,'Percentual de diferença dos indicadores sanguíneos dos pacientes'+ 2*('\\n'),fontsize=25)           #Colocar o título\n",
        "  plt.text(-15,4.2,'Top 5 maiores entre os pacientes que tiveram entrada pelos que não tiveram  '+ 2*('\\n'),fontsize=20)           #Colocar o título\n",
        "\n",
        "  plt.show()"
      ],
      "metadata": {
        "id": "ARwy99Tx64uV"
      },
      "execution_count": null,
      "outputs": []
    },
    {
      "cell_type": "markdown",
      "source": [
        "## <font color= MediumSpringGreen> 3. Funções de treino e desenvolvimento do modelo\n",
        "\n"
      ],
      "metadata": {
        "id": "7CEhSGfRrbh4"
      }
    },
    {
      "cell_type": "markdown",
      "source": [
        "### <font color= MediumSpringGreen> 3.1 roda_modelo\n",
        "Esta função rodará o modelo, imprimirá o AUC médio e o relatório da classificação."
      ],
      "metadata": {
        "id": "P9mW1acIrlZv"
      }
    },
    {
      "cell_type": "code",
      "source": [
        "def roda_modelo(modelo,dados):\n",
        "\n",
        "  np.random.seed(354354)\n",
        "\n",
        "  x_columns = dados.columns\n",
        "  y = dados['ICU']\n",
        "  x = dados[x_columns].drop(['ICU','WINDOW'],axis=1)\n",
        "  \n",
        "  x_train, x_test, y_train, y_test = train_test_split(x,y, stratify=y, test_size=0.15)\n",
        "\n",
        "  modelo.fit(x_train,y_train)\n",
        "  predicao = modelo.predict(x_test)\n",
        "  prob_predict = modelo.predict_proba(x_test)\n",
        "\n",
        "  auc = roc_auc_score(y_test,prob_predict[:,1])\n",
        "  print(f\"AUC {auc}\")\n",
        "  print(\"\\nClassification Report\")\n",
        "  print(classification_report(y_test,predicao))"
      ],
      "metadata": {
        "id": "KDFONgfyrcjD"
      },
      "execution_count": null,
      "outputs": []
    },
    {
      "cell_type": "markdown",
      "source": [
        "### <font color= MediumSpringGreen> 3.2 rodroda_n_modelos\n",
        "Esta função rodará n vezes o modelo e imprimirá o intervalo do auc médio gerado."
      ],
      "metadata": {
        "id": "YKdrv7LZ_4lT"
      }
    },
    {
      "cell_type": "code",
      "source": [
        "def roda_n_modelos(modelo,dados,n):\n",
        "\n",
        "  np.random.seed(354354)\n",
        "\n",
        "  x_columns = dados.columns\n",
        "  y = dados['ICU']\n",
        "  x = dados[x_columns].drop(['ICU','WINDOW'],axis=1)\n",
        "\n",
        "  auc_lista = []\n",
        "  for _ in range(n):\n",
        "\n",
        "    x_train, x_test, y_train, y_test = train_test_split(x, y,stratify=y,test_size=0.15)\n",
        "\n",
        "    modelo.fit(x_train,y_train)\n",
        "    prob_predict = modelo.predict_proba(x_test)\n",
        "    auc = roc_auc_score(y_test, prob_predict[:,1])\n",
        "    auc_lista.append(auc)\n",
        "  \n",
        "  \n",
        "  auc_medio = np.mean(auc_lista)\n",
        "  auc_std = np.std(auc_lista)\n",
        "  print(f'AUC médio {auc_medio}')\n",
        "  print(f'Intervalo {auc_medio - 2* auc_std} - {auc_medio + 2* auc_std}')"
      ],
      "metadata": {
        "id": "mAbx-c1q_45N"
      },
      "execution_count": null,
      "outputs": []
    },
    {
      "cell_type": "markdown",
      "source": [
        "### <font color= MediumSpringGreen> 3.3 roda_modelo_cv\n",
        "Esta função rodará o modelo através de uma validação cruzada utilizando o StratifiedKFold."
      ],
      "metadata": {
        "id": "DbTB9cvTCM9u"
      }
    },
    {
      "cell_type": "code",
      "source": [
        "def roda_modelo_cv(modelo,dados,n_splits,n_repeat):\n",
        "\n",
        "  np.random.seed(354354)\n",
        "  dados = dados.sample(frac=1).reset_index(drop=True)\n",
        "  x_columns = dados.columns\n",
        "  y = dados['ICU']\n",
        "  x = dados[x_columns].drop(['ICU','WINDOW'],axis=1)\n",
        "  \n",
        "  cv = RepeatedStratifiedKFold(n_splits = n_splits, n_repeats=n_repeat)\n",
        "  resultados = cross_validate(modelo,x,y,cv=cv, scoring='roc_auc',return_train_score=True)\n",
        "\n",
        "  auc_medio = np.mean(resultados['test_score'])\n",
        "  auc_medio_treino = np.mean(resultados['train_score'])\n",
        "\n",
        "  auc_std = np.std(resultados['test_score'])\n",
        "\n",
        "\n",
        "  #print(f\"AUC Médio {auc_medio} Intervalo {auc_medio - (2*auc_std)} - {auc_medio + (2*auc_std)}\")\n",
        "  print(f\"AUC {auc_medio} - {auc_medio_treino}\")\n",
        "  return auc_medio, auc_medio_treino"
      ],
      "metadata": {
        "id": "e1zKOkptCRnw"
      },
      "execution_count": null,
      "outputs": []
    },
    {
      "cell_type": "code",
      "source": [
        ""
      ],
      "metadata": {
        "id": "CXJa1zTgIF4G"
      },
      "execution_count": null,
      "outputs": []
    },
    {
      "cell_type": "markdown",
      "source": [
        ""
      ],
      "metadata": {
        "id": "j9cumzWtH9kW"
      }
    },
    {
      "cell_type": "code",
      "source": [
        ""
      ],
      "metadata": {
        "id": "toBRgd-AH99m"
      },
      "execution_count": null,
      "outputs": []
    }
  ]
}