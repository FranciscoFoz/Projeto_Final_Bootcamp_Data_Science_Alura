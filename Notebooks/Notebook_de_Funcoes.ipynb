{
  "nbformat": 4,
  "nbformat_minor": 0,
  "metadata": {
    "colab": {
      "name": "Notebook_de_Funcoes.ipynb",
      "provenance": [],
      "collapsed_sections": [],
      "authorship_tag": "ABX9TyNdJwjQqvovsO3UVfWoOBG8",
      "include_colab_link": true
    },
    "kernelspec": {
      "name": "python3",
      "display_name": "Python 3"
    },
    "language_info": {
      "name": "python"
    }
  },
  "cells": [
    {
      "cell_type": "markdown",
      "metadata": {
        "id": "view-in-github",
        "colab_type": "text"
      },
      "source": [
        "<a href=\"https://colab.research.google.com/github/FranciscoFoz/Projeto_Final_Bootcamp_Data_Science_Alura/blob/main/Notebooks/Notebook_de_Funcoes.ipynb\" target=\"_parent\"><img src=\"https://colab.research.google.com/assets/colab-badge.svg\" alt=\"Open In Colab\"/></a>"
      ]
    },
    {
      "cell_type": "markdown",
      "source": [
        "# <font color= MediumSpringGreen\t\tsize = 6> Bootcamp Data Science Alura - Projeto Final </font>\n",
        "\n",
        "# <font color= MediumSpringGreen\t\tsize = 6> Notebook de funções"
      ],
      "metadata": {
        "id": "XF1ZLrmIvcUl"
      }
    },
    {
      "cell_type": "markdown",
      "source": [
        "## <font color= MediumSpringGreen> 1. Funções de manipulação de dados\n"
      ],
      "metadata": {
        "id": "suGuR3PpvzU7"
      }
    },
    {
      "cell_type": "markdown",
      "source": [
        "### <font color= MediumSpringGreen> 1.1 remover_pacientes_com_primeira_janela_positiva_para_UTI\n",
        "\n",
        "Esta função irá remover os pacientes que possuam resultado positivo(1) para entrada na UTI dentro da primeira janela (0-2)"
      ],
      "metadata": {
        "id": "UIhT-yRCv7oi"
      }
    },
    {
      "cell_type": "code",
      "execution_count": 1,
      "metadata": {
        "id": "TfZSxYnPva6D"
      },
      "outputs": [],
      "source": [
        "def remover_pacientes_com_primeira_janela_positiva_para_UTI(dados):\n",
        "  a_remover = dados.query(\"WINDOW == '0-2' and ICU == 1\")['PATIENT_VISIT_IDENTIFIER'].values            #Query dos pacientes que possuam a primeira janela e resultado positivo\n",
        "  dados_limpos = dados.query(\"PATIENT_VISIT_IDENTIFIER not in @a_remover\")                              #Query removendo os pacientes na condição acima\n",
        "  return dados_limpos"
      ]
    }
  ]
}