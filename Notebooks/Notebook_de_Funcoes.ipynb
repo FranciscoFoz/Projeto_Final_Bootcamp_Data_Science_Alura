{
  "nbformat": 4,
  "nbformat_minor": 0,
  "metadata": {
    "colab": {
      "name": "Notebook_de_Funcoes.ipynb",
      "provenance": [],
      "collapsed_sections": [],
      "authorship_tag": "ABX9TyOKRfZWxeSgliXC9gdyqrQm",
      "include_colab_link": true
    },
    "kernelspec": {
      "name": "python3",
      "display_name": "Python 3"
    },
    "language_info": {
      "name": "python"
    }
  },
  "cells": [
    {
      "cell_type": "markdown",
      "metadata": {
        "id": "view-in-github",
        "colab_type": "text"
      },
      "source": [
        "<a href=\"https://colab.research.google.com/github/FranciscoFoz/Projeto_Final_Bootcamp_Data_Science_Alura/blob/main/Notebooks/Notebook_de_Funcoes.ipynb\" target=\"_parent\"><img src=\"https://colab.research.google.com/assets/colab-badge.svg\" alt=\"Open In Colab\"/></a>"
      ]
    },
    {
      "cell_type": "markdown",
      "source": [
        "# <font color= MediumSpringGreen\t\tsize = 6> Bootcamp Data Science Alura - Projeto Final </font>\n",
        "\n",
        "# <font color= MediumSpringGreen\t\tsize = 6> Notebook de funções"
      ],
      "metadata": {
        "id": "XF1ZLrmIvcUl"
      }
    },
    {
      "cell_type": "markdown",
      "source": [
        "## <font color= MediumSpringGreen> 1. Funções de manipulação de dados\n"
      ],
      "metadata": {
        "id": "suGuR3PpvzU7"
      }
    },
    {
      "cell_type": "markdown",
      "source": [
        "### <font color= MediumSpringGreen> 1.1 remover_pacientes_com_primeira_janela_positiva_para_UTI\n",
        "\n",
        "Esta função irá remover os pacientes que possuam resultado positivo(1) para entrada na UTI dentro da primeira janela (0-2)"
      ],
      "metadata": {
        "id": "UIhT-yRCv7oi"
      }
    },
    {
      "cell_type": "code",
      "execution_count": null,
      "metadata": {
        "id": "TfZSxYnPva6D"
      },
      "outputs": [],
      "source": [
        "def remover_pacientes_com_primeira_janela_positiva_para_UTI(dados):\n",
        "  a_remover = dados.query(\"WINDOW == '0-2' and ICU == 1\")['PATIENT_VISIT_IDENTIFIER'].values            #Query dos pacientes que possuam a primeira janela e resultado positivo\n",
        "  dados_limpos = dados.query(\"PATIENT_VISIT_IDENTIFIER not in @a_remover\")                              #Query removendo os pacientes na condição acima\n",
        "  return dados_limpos"
      ]
    },
    {
      "cell_type": "markdown",
      "source": [
        "### <font color= MediumSpringGreen> 1.2 preenche_tabela\n",
        "Esta função irá preencher a tabela onde esteja NAN com os valores anteriores e depois com os posteriores."
      ],
      "metadata": {
        "id": "P52JkSajLST-"
      }
    },
    {
      "cell_type": "code",
      "source": [
        "def preenche_tabela(dados):\n",
        "  features_continuas_colunas = dados.iloc[:,4:-2].columns                                                                                                   #Selecionar colunas de variáveis contínuas\n",
        "  features_continuas = dados.groupby('PATIENT_VISIT_IDENTIFIER', as_index=False)[features_continuas_colunas].fillna(method='bfill').fillna(method='ffill')  #Preencher os dados NAN da tabela\n",
        "  features_categoricas = dados.iloc[:,:4]                                                                                                                   #Selecionar as categóricas\n",
        "  saida = dados.iloc[:, -2:]                                                                                                                                #Selecionar os dados de saída\n",
        "  dados_finais = pd.concat([features_categoricas,features_continuas,saida],ignore_index=True,axis=1)                                                        #Concatenar os dados anteriores\n",
        "  dados_finais.columns = dados.columns                                                                                                                      #Renomear as colunas\n",
        "  return dados_finais"
      ],
      "metadata": {
        "id": "94ya1X2TLSee"
      },
      "execution_count": 3,
      "outputs": []
    },
    {
      "cell_type": "markdown",
      "source": [
        "### <font color= MediumSpringGreen> 1.2 prepare_window\n",
        "Esta função irá localizar todas as linhas que possuam janela entre \"0-2\" e UTI igual a 1, retornando as linhas."
      ],
      "metadata": {
        "id": "k24z3kxzcNUf"
      }
    },
    {
      "cell_type": "code",
      "source": [
        "def prepare_window(rows):                                                   \n",
        "  if(np.any(rows['ICU'])):                                                      \n",
        "    rows.loc[rows['WINDOW']=='0-2','ICU'] = 1                                   #Condição se para localizar as linhas com os filtros desejados.\n",
        "  return rows.loc[rows['WINDOW'] == '0-2']"
      ],
      "metadata": {
        "id": "UamDk_-eUs20"
      },
      "execution_count": 8,
      "outputs": []
    },
    {
      "cell_type": "markdown",
      "source": [
        "### <font color= MediumSpringGreen> 1.3 excluir_coluna_id_paciente\n",
        "Esta função irá excluir a coluna do ID do paciente."
      ],
      "metadata": {
        "id": "bp2oIYYdtxyk"
      }
    },
    {
      "cell_type": "code",
      "source": [
        "def excluir_coluna_id_paciente(dados):\n",
        "  dados_sem_coluna_id_paciente = dados.drop(['PATIENT_VISIT_IDENTIFIER'],axis=1)      #Excluir coluna do id do paciente\n",
        "  return dados_sem_coluna_id_paciente                               "
      ],
      "metadata": {
        "id": "Y-ua_JxhtxTd"
      },
      "execution_count": 1,
      "outputs": []
    },
    {
      "cell_type": "markdown",
      "source": [
        "### <font color= MediumSpringGreen> 1.4 transformar_AGE_PERCENTIL_em_dados_categoricos\n",
        "Esta função irá excluir a coluna do ID do paciente."
      ],
      "metadata": {
        "id": "qXHvrCGiK3o2"
      }
    },
    {
      "cell_type": "code",
      "source": [
        "def transformar_AGE_PERCENTIL_em_dados_categoricos(dados):\n",
        "  dados.AGE_PERCENTIL = dados.AGE_PERCENTIL.astype('category').cat.codes                              #Transformar coluna AGE PECENTIL em dados categóricos\n",
        "  return dados"
      ],
      "metadata": {
        "id": "MSHP0-xCK1GC"
      },
      "execution_count": 5,
      "outputs": []
    },
    {
      "cell_type": "markdown",
      "source": [
        "### <font color= MediumSpringGreen> 1.5 remover_variaveis_correlacionadas\n",
        "Esta função irá filtrar os dados entre as variáveis, excluindo: \"AGE_ABOVE65\",\"AGE_PERCENTIL\", \"GENDER\", \"WINDOW\" e \"ICU\".\n",
        "\n",
        "Criará uma matriz de correlação entre eles, permanecendo apenas com o triângulo superior.\n",
        "\n",
        "Excluirá as colunas com correção passada como parâmetro.\n"
      ],
      "metadata": {
        "id": "gLJjjOLlLog9"
      }
    },
    {
      "cell_type": "code",
      "source": [
        "def remover_variaveis_correlacionadas(dados,valor_de_corte):\n",
        "\n",
        "  matriz_corr = dados.iloc[:,3:-2].corr().abs()                                                               #Filtrar dados correlacionando-os e transformando-os em números absolutos.\n",
        "  matriz_superior = matriz_corr.where(np.triu(np.ones(matriz_corr.shape),k=1).astype(np.bool))                #Criar matriz superior da matriz de correlação\n",
        "  excluir = [coluna for coluna in  matriz_superior if any(matriz_superior[coluna] > valor_de_corte)]          #Selecionar colunas dentro da matriz superior que contenham alta correlação\n",
        "\n",
        "  return dados.drop(excluir,axis=1)                                                                           #Retornar o dataframe sem as colunas com alta correlação"
      ],
      "metadata": {
        "id": "X5Co-KnVLn95"
      },
      "execution_count": 6,
      "outputs": []
    },
    {
      "cell_type": "markdown",
      "source": [
        "## <font color= MediumSpringGreen> 2. Funções de criação de visualizações\n"
      ],
      "metadata": {
        "id": "COPo9HfSaBq5"
      }
    },
    {
      "cell_type": "markdown",
      "source": [
        "### <font color= MediumSpringGreen> 2.1 grafico_total_pacientes\n",
        "Esta função criará um gráfico de cartão com o total de pacientes"
      ],
      "metadata": {
        "id": "I6nRW5QxaKao"
      }
    },
    {
      "cell_type": "code",
      "source": [
        "def grafico_total_pacientes():\n",
        "\n",
        "  plt.figure(figsize=(7, 3),                                                    #Ajustando o tamanho\n",
        "            facecolor='white')                                                  #Escolhendo a cor do fundo\n",
        "\n",
        "  for spine in plt.gca().spines.values():                                       #Removendo os eixos do gráfico\n",
        "      spine.set_visible(False)\n",
        "\n",
        "  plt.tick_params(bottom=False, left=False, labelleft=False, labelbottom=False) #Excluindo os valores dos eixos\n",
        "\n",
        "\n",
        "  plt.text(0, 1.03,                                                             #Ajustando posição dos eixos\n",
        "          'Número total de pacientes',                                          #Colocando o título\n",
        "          fontsize=25,                                                          #Formatando o tamanho  \n",
        "          color='black',                                                        #Formatando a cor\n",
        "          weight=\"bold\")                                                        #Formatando em negrito\n",
        "\n",
        "  plt.text(0, 0.25,                                                             #Ajustando posição dos eixos\n",
        "          '$\\\\bf{353}$',                                                        #Colocando número com formatação em negrito com auxílio de regex                     \n",
        "          fontsize=130,                                                         #Formatando o tamanho\n",
        "          color='#4682B4')                                                      #Formatando a cor\n",
        "  plt.show()"
      ],
      "metadata": {
        "id": "RiBD5-YLRC42"
      },
      "execution_count": null,
      "outputs": []
    },
    {
      "cell_type": "markdown",
      "source": [
        "### <font color= MediumSpringGreen> 2.2 grafico_quantidade_entrada_e_nao_entrada_UTI\n",
        "Esta função criará um gráfico de com a quantidade de pacientes que deram e não deram entrada na UTI."
      ],
      "metadata": {
        "id": "8dSvikGld56r"
      }
    },
    {
      "cell_type": "code",
      "source": [
        "def grafico_quantidade_entrada_e_nao_entrada_UTI():\n",
        "                                           \n",
        "  tabela_freq_entrada_UTI = pd.DataFrame(dados_limpos_sem_corr['ICU'].value_counts())     #Criar DataFrame com a quantidade\n",
        "  tabela_freq_entrada_UTI.columns = ['UTI']                                               #Renomear coluna\n",
        "  tabela_freq_entrada_UTI.index = ['Não','Sim']                                           #Renomear índice\n",
        "\n",
        "  plt.figure(facecolor='white')                                                  #Escolhendo a cor do fundo\n",
        "  tabela_freq_entrada_UTI.T.plot(kind='barh',                                    #Plotar o gráfico\n",
        "                                      stacked=True,                              #Empilhar as barras\n",
        "                                      figsize=(15,6),                            #Ajustar o tamanho\n",
        "                                      color=['#808080','#800000'],               #Escolher a cor\n",
        "                                      fontsize=15,                               #Ajustar o tamanho da fonte\n",
        "                                      legend=None)                               #Excluir legenda\n",
        "\n",
        "  for spine in plt.gca().spines.values():                                        #Remover os eixos do gráfico\n",
        "      spine.set_visible(False)\n",
        "\n",
        "  quantidade_sem_entrada = tabela_freq_entrada_UTI['UTI'][0]                                 \n",
        "  quantidade_com_entrada = tabela_freq_entrada_UTI['UTI'][1]\n",
        "\n",
        "  sem_entrada_percentual = str(round(quantidade_sem_entrada/tabela_freq_entrada_UTI['UTI'].sum(),2)*100)   \n",
        "  com_entrada_percentual = str(round(quantidade_com_entrada/tabela_freq_entrada_UTI['UTI'].sum(),2)*100)    \n",
        "\n",
        "\n",
        "                        \n",
        "  plt.text(quantidade_sem_entrada/2.2,0,                                         #Escolher a posição x e y do texto de %\n",
        "          sem_entrada_percentual + '%',                                          #Plotar o texto com o %\n",
        "          fontweight ='bold',                                                    #Formatar para negrito\n",
        "          fontsize = 20)                                                         #Aumentar a fonte\n",
        "\n",
        "  plt.text(tabela_freq_entrada_UTI['UTI'].sum() - quantidade_sem_entrada/1.8,0,  #Escolher a posição x e y do texto\n",
        "          com_entrada_percentual + '%',                                          #Plotar o texto com o %\n",
        "          fontweight ='bold',                                                    #Formatar para negrito\n",
        "          fontsize = 20)                                                         #Aumentar a fonte\n",
        "\n",
        "  plt.yticks([])                                                                 #Excluir valores do eixo y\n",
        "  plt.xticks([])                                                                 #Excluir valores do eixo x\n",
        "\n",
        "  plt.text(-0.3, -0.4,                                                           #Escolher posição   \n",
        "          'Do total de $\\\\bf{ 353 \\\\ pacientes}$.' ,                             #Texto com regex\n",
        "          fontsize=25)                                                           #Escolher tamanho do texto                                            \n",
        "\n",
        "  plt.text(-0.3, -0.5,                                                           #Escolher posição  \n",
        "          '$\\\\bf{ 190 \\\\ não \\\\ tiveram \\\\ entrada}$.' ,                         #Texto com regex\n",
        "          fontsize=25,                                                           #Escolher tamanho do texto \n",
        "          color='#808080')                                                       #Escolher cor\n",
        "\n",
        "  plt.text(-0.3, -0.6,                                                           #Escolher posição\n",
        "          'e $\\\\bf{ 163 \\\\ tiveram \\\\ entrada}$.' ,                              #Texto com regex\n",
        "          fontsize=25,                                                           #Escolher tamanho do texto\n",
        "          color='#800000')                                                       #Escolher cor\n",
        "          \n",
        "  plt.title('Quantidade de pacientes com entrada na UTI',  #Colocar o título\n",
        "            fontsize=30,                                                         #Tamanho do texto\n",
        "            loc='left',                                                          #Ajustar do lado esquerdo\n",
        "            color='#808080')                                                     #Escolher a cor\n",
        "\n",
        "  plt.show()"
      ],
      "metadata": {
        "id": "2_DNK032d6Rh"
      },
      "execution_count": 7,
      "outputs": []
    }
  ]
}